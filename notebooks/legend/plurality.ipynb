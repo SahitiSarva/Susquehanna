{
 "metadata": {
  "language_info": {
   "codemirror_mode": {
    "name": "ipython",
    "version": 3
   },
   "file_extension": ".py",
   "mimetype": "text/x-python",
   "name": "python",
   "nbconvert_exporter": "python",
   "pygments_lexer": "ipython3",
   "version": "3.8.5"
  },
  "orig_nbformat": 2,
  "kernelspec": {
   "name": "python385jvsc74a57bd0c377a3a05ba1d31fd00218651f72b0a27b3c45e2b83cef10397a5da0ee866dc9",
   "display_name": "Python 3.8.5 64-bit ('base': conda)"
  }
 },
 "nbformat": 4,
 "nbformat_minor": 2,
 "cells": [
  {
   "cell_type": "code",
   "execution_count": 2,
   "metadata": {},
   "outputs": [],
   "source": [
    "import pandas as pd \n",
    "from sklearn import preprocessing\n",
    "import numpy as np\n",
    "import ast\n",
    "import networkx as nx\n",
    "from collections import Counter\n",
    "import itertools\n"
   ]
  },
  {
   "cell_type": "code",
   "execution_count": 6,
   "metadata": {},
   "outputs": [],
   "source": [
    "from utilities import *"
   ]
  },
  {
   "cell_type": "code",
   "execution_count": 3,
   "metadata": {},
   "outputs": [],
   "source": [
    "# Aggregation Rule : Plurality\n",
    "# Tie breaker 1: Pick the solution that gives maximum utility\n",
    "# Tie breaker 2: Pick the one that gives most increase from previous solution\n",
    "\n",
    "# Q: How realistic is the fact that their only agency is a vote?"
   ]
  },
  {
   "cell_type": "code",
   "execution_count": 7,
   "metadata": {},
   "outputs": [
    {
     "output_type": "execute_result",
     "data": {
      "text/plain": [
       "Index(['hydropower_revenue', 'atomic_power_plant_discharge',\n",
       "       'baltimore_discharge', 'chester_discharge', 'recreation', 'environment',\n",
       "       'flood_duration'],\n",
       "      dtype='object')"
      ]
     },
     "metadata": {},
     "execution_count": 7
    }
   ],
   "source": [
    "payoffs = load_data('../output/processed/txt/bestruns100years_newcoalitions.txt', 'old')\n",
    "payoffs.columns"
   ]
  },
  {
   "cell_type": "code",
   "execution_count": 16,
   "metadata": {},
   "outputs": [],
   "source": [
    "normalized_payoffs = normalize_df(payoffs)"
   ]
  },
  {
   "cell_type": "code",
   "execution_count": 20,
   "metadata": {},
   "outputs": [],
   "source": [
    "normalized_payoffs = normalized_payoffs.set_index('decision')"
   ]
  },
  {
   "cell_type": "code",
   "execution_count": 23,
   "metadata": {},
   "outputs": [
    {
     "output_type": "execute_result",
     "data": {
      "text/plain": [
       "1.3494244809064195"
      ]
     },
     "metadata": {},
     "execution_count": 23
    }
   ],
   "source": [
    "sum(normalized_payoffs.T['best_dfl'])"
   ]
  },
  {
   "cell_type": "code",
   "execution_count": 25,
   "metadata": {},
   "outputs": [
    {
     "output_type": "execute_result",
     "data": {
      "text/plain": [
       "hydropower_revenue              0.349424\n",
       "atomic_power_plant_discharge    0.000000\n",
       "baltimore_discharge             0.000000\n",
       "chester_discharge               0.000000\n",
       "recreation                      0.000000\n",
       "environment                     1.000000\n",
       "flood_duration                  0.000000\n",
       "Name: best_dfl, dtype: float64"
      ]
     },
     "metadata": {},
     "execution_count": 25
    }
   ],
   "source": [
    "normalized_payoffs.T['best_dfl']"
   ]
  },
  {
   "cell_type": "code",
   "execution_count": 26,
   "metadata": {},
   "outputs": [
    {
     "output_type": "execute_result",
     "data": {
      "text/plain": [
       "hydropower_revenue              1.000000\n",
       "atomic_power_plant_discharge    0.998935\n",
       "baltimore_discharge             0.696771\n",
       "chester_discharge               0.961838\n",
       "recreation                      0.920400\n",
       "environment                     0.787858\n",
       "flood_duration                  0.990099\n",
       "Name: best_comp, dtype: float64"
      ]
     },
     "metadata": {},
     "execution_count": 26
    }
   ],
   "source": [
    "normalized_payoffs.T['best_comp']"
   ]
  },
  {
   "cell_type": "code",
   "execution_count": 24,
   "metadata": {},
   "outputs": [
    {
     "output_type": "execute_result",
     "data": {
      "text/plain": [
       "6.355900971782913"
      ]
     },
     "metadata": {},
     "execution_count": 24
    }
   ],
   "source": [
    "sum(normalized_payoffs.T['best_comp'])"
   ]
  },
  {
   "cell_type": "code",
   "execution_count": 98,
   "metadata": {},
   "outputs": [],
   "source": [
    "def mode(vote):\n",
    "    count = Counter(vote)\n",
    "    max_value = max(count.values())\n",
    "    return [k for k,v in count.items() if v == max_value]\n"
   ]
  },
  {
   "source": [
    "def calculate_winning_decision(vote):\n",
    "    max_vote = mode(vote)\n",
    "    if len(max_vote) == 1:\n",
    "        return max_vote[0]\n",
    "    else:\n",
    "        utilities = {k:v['total_utility'] for k,v in npayoffs.items() if k in max_vote}\n",
    "        max_utility = [k for k,v in utilities.items() if v == max(utilities.values())]\n",
    "        if len(max_utility) == 1:\n",
    "            return max_utility[0]\n",
    "        else:\n",
    "            return max_utility[0]\n",
    "            print(\"same max utilities\")"
   ],
   "cell_type": "code",
   "metadata": {},
   "execution_count": null,
   "outputs": []
  },
  {
   "cell_type": "code",
   "execution_count": 100,
   "metadata": {},
   "outputs": [],
   "source": [
    "def calculate_dominant_strategies(player_list, payoffs):\n",
    "    payoffs = payoffs[player_list]\n",
    "    normalized_payoffs = utils.normalize_df(payoffs)\n",
    "\n",
    "    normalized_payoffs['total_utility'] = normalized_payoffs[player_list].sum(axis = 1)\n",
    "\n",
    "    decisions = list(normalized_payoffs['decision'])\n",
    "\n",
    "    npayoffs = normalized_payoffs.T.to_dict()\n",
    "\n",
    "    x = list(range(len(decisions)))\n",
    "    n_players = len(player_list)\n",
    "    all_combinations = [p for p in itertools.product(x, repeat = n_players)]\n",
    "\n",
    "    utility = {}\n",
    "    for i in range(len(all_combinations)):\n",
    "        utility[i] = {'vote': all_combinations[i], 'decision': npayoffs[calculate_winning_decision(all_combinations[i])]['decision'] }\n",
    "\n",
    "    strategies = {}\n",
    "    for i in range(n_players):\n",
    "        strategies[i] = {}\n",
    "        for j in range(len(decisions)):\n",
    "            strategies[i][j] = set([utility[k]['decision'] for k,v in utility.items() if utility[k]['vote'][i] == j])\n",
    "\n",
    "    decision_overview = {}\n",
    "    for i in decisions:\n",
    "        decision_overview[i] = len([utility[k]['vote'] for k,v in utility.items() if utility[k]['decision'] == i])\n",
    "\n",
    "    return strategies, utility, decision_overview"
   ]
  },
  {
   "cell_type": "code",
   "execution_count": 106,
   "metadata": {},
   "outputs": [],
   "source": [
    "x = list(range(len(decisions)))\n",
    "n_players = len(actors)\n",
    "all_combinations = [p for p in itertools.product(x, repeat = n_players)]"
   ]
  },
  {
   "cell_type": "code",
   "execution_count": 108,
   "metadata": {},
   "outputs": [
    {
     "output_type": "execute_result",
     "data": {
      "text/plain": [
       "823543"
      ]
     },
     "metadata": {},
     "execution_count": 108
    }
   ],
   "source": [
    "len(all_combinations)"
   ]
  },
  {
   "cell_type": "code",
   "execution_count": 104,
   "metadata": {},
   "outputs": [
    {
     "output_type": "execute_result",
     "data": {
      "text/plain": [
       "Index(['coalition_appchester', 'coalition_discharge', 'coalition_watersupply',\n",
       "       'hydropower_revenue', 'atomic_power_plant_discharge',\n",
       "       'baltimore_discharge', 'chester_discharge', 'recreation', 'environment',\n",
       "       'flood_risk', 'flood_duration'],\n",
       "      dtype='object')"
      ]
     },
     "metadata": {},
     "execution_count": 104
    }
   ],
   "source": [
    "payoffs.columns"
   ]
  },
  {
   "cell_type": "code",
   "execution_count": 105,
   "metadata": {},
   "outputs": [],
   "source": [
    "decisions = ['best_app',\n",
    " 'best_ch',\n",
    " 'best_comp',\n",
    " 'best_dfl',\n",
    " 'best_env',\n",
    " 'best_hydro',\n",
    " 'best_rec']\n",
    "actors = ['hydropower_revenue', 'atomic_power_plant_discharge',\n",
    "       'baltimore_discharge', 'chester_discharge', 'recreation', 'environment','flood_duration']"
   ]
  },
  {
   "cell_type": "code",
   "execution_count": null,
   "metadata": {},
   "outputs": [],
   "source": [
    "vote_space_1 = np.array()"
   ]
  },
  {
   "cell_type": "code",
   "execution_count": 18,
   "metadata": {},
   "outputs": [],
   "source": [
    "def game(payoffs, player1, player2):\n",
    "    twoplayers = payoffs[[player1, player2]]\n",
    "    normalized_payoffs = utils.normalize_df(twoplayers)\n",
    "    normalized_payoffs = normalized_payoffs.set_index('index')\n",
    "    normalized_payoffs.reset_index(drop=True)\n",
    "\n",
    "    from non_cooperative_games import noncooperativegames\n",
    "    noncooperativegames = noncooperativegames(player1, player2)\n",
    "    vote_space_p1, vote_space_p2, vote_outcomes = noncooperativegames.votes(normalized_payoffs)\n",
    "    G = noncooperativegames.graphs(vote_space_p1, vote_space_p2)\n",
    "\n",
    "    return G, vote_outcomes, normalized_payoffs"
   ]
  },
  {
   "cell_type": "code",
   "execution_count": 5,
   "metadata": {},
   "outputs": [],
   "source": []
  },
  {
   "cell_type": "code",
   "execution_count": 19,
   "metadata": {},
   "outputs": [
    {
     "output_type": "stream",
     "name": "stdout",
     "text": [
      "equilibrium solutions according to plurality are ['best_rec']\nGMR for flood_duration is []\nGMR for chester_discharge is []\n"
     ]
    }
   ],
   "source": [
    "from non_cooperative_games import noncooperativegames\n",
    "player2 = 'chester_discharge'\n",
    "player1 = 'flood_duration'\n",
    "noncooperativegames = noncooperativegames(player1, player2)\n",
    "G, vote_outcomes, normalized_payoffs = game(payoffs, player1, player2)\n",
    "\n",
    "equilibrium = list(dict.fromkeys([vote_outcomes[n]['decision'] for n,v in G.nodes(data = True) if v['out_arrows'] == 0]))\n",
    "print(f'equilibrium solutions according to plurality are {equilibrium}')\n",
    "gmr_p1 = noncooperativegames.gmr(G, 1,'u1')\n",
    "print(f'GMR for {player1} is', [vote_outcomes[x] for x in gmr_p1])\n",
    "gmr_p2 = noncooperativegames.gmr(G, 2,'u2')\n",
    "print(f'GMR for {player2} is', [vote_outcomes[x] for x in gmr_p2])"
   ]
  },
  {
   "cell_type": "code",
   "execution_count": 20,
   "metadata": {},
   "outputs": [
    {
     "output_type": "execute_result",
     "data": {
      "text/plain": [
       "         decision  flood_duration  chester_discharge\n",
       "index                                               \n",
       "0        best_app        0.990099           0.996224\n",
       "1         best_ch        0.990099           0.956463\n",
       "2       best_comp        0.990099           0.961838\n",
       "3        best_dfl        0.000000           0.000000\n",
       "4        best_env        0.990099           0.998633\n",
       "5      best_hydro        0.990099           0.988003\n",
       "6        best_rec        1.000000           1.000000"
      ],
      "text/html": "<div>\n<style scoped>\n    .dataframe tbody tr th:only-of-type {\n        vertical-align: middle;\n    }\n\n    .dataframe tbody tr th {\n        vertical-align: top;\n    }\n\n    .dataframe thead th {\n        text-align: right;\n    }\n</style>\n<table border=\"1\" class=\"dataframe\">\n  <thead>\n    <tr style=\"text-align: right;\">\n      <th></th>\n      <th>decision</th>\n      <th>flood_duration</th>\n      <th>chester_discharge</th>\n    </tr>\n    <tr>\n      <th>index</th>\n      <th></th>\n      <th></th>\n      <th></th>\n    </tr>\n  </thead>\n  <tbody>\n    <tr>\n      <th>0</th>\n      <td>best_app</td>\n      <td>0.990099</td>\n      <td>0.996224</td>\n    </tr>\n    <tr>\n      <th>1</th>\n      <td>best_ch</td>\n      <td>0.990099</td>\n      <td>0.956463</td>\n    </tr>\n    <tr>\n      <th>2</th>\n      <td>best_comp</td>\n      <td>0.990099</td>\n      <td>0.961838</td>\n    </tr>\n    <tr>\n      <th>3</th>\n      <td>best_dfl</td>\n      <td>0.000000</td>\n      <td>0.000000</td>\n    </tr>\n    <tr>\n      <th>4</th>\n      <td>best_env</td>\n      <td>0.990099</td>\n      <td>0.998633</td>\n    </tr>\n    <tr>\n      <th>5</th>\n      <td>best_hydro</td>\n      <td>0.990099</td>\n      <td>0.988003</td>\n    </tr>\n    <tr>\n      <th>6</th>\n      <td>best_rec</td>\n      <td>1.000000</td>\n      <td>1.000000</td>\n    </tr>\n  </tbody>\n</table>\n</div>"
     },
     "metadata": {},
     "execution_count": 20
    }
   ],
   "source": [
    "normalized_payoffs"
   ]
  },
  {
   "cell_type": "code",
   "execution_count": 422,
   "metadata": {
    "tags": []
   },
   "outputs": [],
   "source": [
    "# equilibria_p2 = []\n",
    "# for n in G.nodes:\n",
    "#     intermediate_nodes = [x[1] for x in list(nx.dfs_edges(G, source = n, depth_limit = 1)) if G.edges[x]['player'] == 2]\n",
    "#     for i in intermediate_nodes:\n",
    "#         edges_list = list(nx.dfs_edges(G, source = i, depth_limit = 1))\n",
    "#         tertiary_nodes = [edge[1] for edge in edges_list if G.edges[edge]['player'] == 1 and G.edges[edge]['edge_type'] == 'useful']\n",
    "#         for j in tertiary_nodes:\n",
    "#             #print(j)\n",
    "#             last_nodes = [G.nodes[x[1]]['u2'] for x in list(nx.dfs_edges(G, source = j, depth_limit = 1)) if G.edges[x]['player'] == 2]\n",
    "#             #print(last_nodes)\n",
    "#             if all(last_nodes < G.nodes[n]['u2']):\n",
    "#                 equilibria_p2.append(n)\n",
    "# equilibria_p2 = list(dict.fromkeys(equilibria_p2))"
   ]
  },
  {
   "cell_type": "code",
   "execution_count": null,
   "metadata": {},
   "outputs": [],
   "source": []
  },
  {
   "cell_type": "code",
   "execution_count": 53,
   "metadata": {},
   "outputs": [
    {
     "output_type": "stream",
     "name": "stdout",
     "text": [
      "[7, 14, 21, 28, 42]\n[]\n[]\n[]\n[11, 18, 46]\n[12, 19, 26, 33, 40, 47]\n[13, 20]\n[14, 21]\n[]\n[2, 16, 23, 30, 37, 44]\n[3, 17, 24, 38]\n[18]\n[19, 26, 40]\n[20]\n[21]\n[]\n[]\n[3, 24, 38]\n[]\n[26]\n[]\n[]\n[]\n[]\n[]\n[11, 18, 46]\n[]\n[13, 20]\n[7, 14, 21, 42]\n[]\n[]\n[3, 10, 17, 24, 38, 45]\n[11, 18, 46]\n[12, 19, 26, 40, 47]\n[13, 20]\n[7, 14, 21, 28, 42]\n[]\n[]\n[]\n[11, 18, 46]\n[19, 26]\n[13, 20]\n[7, 14, 21]\n[]\n[]\n[3, 10, 17, 24, 38]\n[11, 18]\n[12, 19, 26, 40]\n[13, 20]\n"
     ]
    }
   ],
   "source": [
    "for n in G.nodes:\n",
    "    intermediate_nodes = [x[1] for x in list(nx.dfs_edges(G, source = n, depth_limit = 1)) if G.edges[x]['player'] == 1 and G.edges[x]['edge_type'] == 'useful']\n",
    "    print(intermediate_nodes)"
   ]
  },
  {
   "cell_type": "code",
   "execution_count": 72,
   "metadata": {},
   "outputs": [
    {
     "output_type": "stream",
     "name": "stdout",
     "text": [
      "[0, 7, 14, 21, 28, 35]\n[6]\n0.9987639934185715\n"
     ]
    }
   ],
   "source": [
    "intermediate_nodes = [x[1] for x in list(nx.dfs_edges(G, source = 42, depth_limit = 1)) if G.edges[x]['player'] == 1 and G.edges[x]['edge_type'] == 'useful']\n",
    "print(intermediate_nodes)\n",
    "tertiary_nodes = [edge[1] for edge in list(nx.dfs_edges(G, source = 0, depth_limit = 1)) if G.edges[edge]['player'] == 2 and G.edges[edge]['edge_type'] == 'useful']\n",
    "print(tertiary_nodes)\n",
    "last_nodes = [G.nodes[x]['u1'] for x in tertiary_nodes]\n",
    "\n",
    "print(G.nodes[42]['u1'])\n",
    "# #last_nodes = [G.nodes[x[1]]['u2'] for x in list(nx.dfs_edges(G, source = 44, depth_limit = 1)) if G.edges[x]['player'] == 2]\n",
    "#print(last_nodes)\n",
    "# if all(last_nodes < G.nodes[22]['u1']):\n",
    "#     print(True)"
   ]
  }
 ]
}