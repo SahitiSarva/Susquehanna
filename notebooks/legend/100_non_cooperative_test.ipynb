{
 "metadata": {
  "language_info": {
   "codemirror_mode": {
    "name": "ipython",
    "version": 3
   },
   "file_extension": ".py",
   "mimetype": "text/x-python",
   "name": "python",
   "nbconvert_exporter": "python",
   "pygments_lexer": "ipython3",
   "version": "3.8.5"
  },
  "orig_nbformat": 2,
  "kernelspec": {
   "name": "python385jvsc74a57bd0c377a3a05ba1d31fd00218651f72b0a27b3c45e2b83cef10397a5da0ee866dc9",
   "display_name": "Python 3.8.5 64-bit ('base': conda)"
  }
 },
 "nbformat": 4,
 "nbformat_minor": 2,
 "cells": [
  {
   "cell_type": "code",
   "execution_count": 1,
   "metadata": {},
   "outputs": [],
   "source": [
    "%reload_ext autoreload\n",
    "%autoreload 2\n",
    "import data_02_conflictSolvers as solvers\n",
    "import data_01_conflictModel as model\n",
    "\n",
    "#import data_04_spSolvers as solvers\n",
    "import data_03_gmcrUtilities as gmcrUtils\n",
    "import gmcr\n",
    "import numpy as np\n",
    "from utilities import *"
   ]
  },
  {
   "source": [
    "# Non cooperative stability\n",
    "\n",
    "- Step 0: Load data\n",
    "- Step 1: Identify which baseline policy one wants to use\n",
    "- Step 2: Create a game using GMCR-py package and load conflict actors\n",
    "- Step 3: Identify preference ranking between all the policies for all the actors\n",
    "- Step 4: Solve the game to find the equilibrium conditions\n",
    "- Step 5: Store the records"
   ],
   "cell_type": "markdown",
   "metadata": {}
  },
  {
   "cell_type": "code",
   "execution_count": 2,
   "metadata": {},
   "outputs": [],
   "source": [
    "payoffs = load_data(\"../model/data/processed/50yr_best.pickle\")"
   ]
  },
  {
   "cell_type": "code",
   "execution_count": 3,
   "metadata": {},
   "outputs": [
    {
     "output_type": "execute_result",
     "data": {
      "text/plain": [
       "         hydropower_revenue  atomic_power_plant_discharge  \\\n",
       "policy1           20.452941                      0.662558   \n",
       "policy2           27.709023                      0.413537   \n",
       "policy3           28.001663                      0.276144   \n",
       "policy4           24.098135                      0.652890   \n",
       "policy5           28.001663                      0.276144   \n",
       "policy6           24.256598                      0.504577   \n",
       "\n",
       "         baltimore_discharge  chester_discharge  recreation  environment  \\\n",
       "policy1             0.449381           0.580373    0.123929    -0.263545   \n",
       "policy2             0.574970           0.331784    0.160357    -0.152379   \n",
       "policy3             0.372764           0.214182    0.106429    -0.114024   \n",
       "policy4             0.498963           0.576507    0.123214    -0.248537   \n",
       "policy5             0.372764           0.214182    0.106429    -0.114024   \n",
       "policy6             0.572013           0.421109    0.106429    -0.203868   \n",
       "\n",
       "         flood_risk  \n",
       "policy1   -1.344648  \n",
       "policy2   -1.247479  \n",
       "policy3   -1.237239  \n",
       "policy4   -1.443722  \n",
       "policy5   -1.237239  \n",
       "policy6   -1.447469  "
      ],
      "text/html": "<div>\n<style scoped>\n    .dataframe tbody tr th:only-of-type {\n        vertical-align: middle;\n    }\n\n    .dataframe tbody tr th {\n        vertical-align: top;\n    }\n\n    .dataframe thead th {\n        text-align: right;\n    }\n</style>\n<table border=\"1\" class=\"dataframe\">\n  <thead>\n    <tr style=\"text-align: right;\">\n      <th></th>\n      <th>hydropower_revenue</th>\n      <th>atomic_power_plant_discharge</th>\n      <th>baltimore_discharge</th>\n      <th>chester_discharge</th>\n      <th>recreation</th>\n      <th>environment</th>\n      <th>flood_risk</th>\n    </tr>\n  </thead>\n  <tbody>\n    <tr>\n      <th>policy1</th>\n      <td>20.452941</td>\n      <td>0.662558</td>\n      <td>0.449381</td>\n      <td>0.580373</td>\n      <td>0.123929</td>\n      <td>-0.263545</td>\n      <td>-1.344648</td>\n    </tr>\n    <tr>\n      <th>policy2</th>\n      <td>27.709023</td>\n      <td>0.413537</td>\n      <td>0.574970</td>\n      <td>0.331784</td>\n      <td>0.160357</td>\n      <td>-0.152379</td>\n      <td>-1.247479</td>\n    </tr>\n    <tr>\n      <th>policy3</th>\n      <td>28.001663</td>\n      <td>0.276144</td>\n      <td>0.372764</td>\n      <td>0.214182</td>\n      <td>0.106429</td>\n      <td>-0.114024</td>\n      <td>-1.237239</td>\n    </tr>\n    <tr>\n      <th>policy4</th>\n      <td>24.098135</td>\n      <td>0.652890</td>\n      <td>0.498963</td>\n      <td>0.576507</td>\n      <td>0.123214</td>\n      <td>-0.248537</td>\n      <td>-1.443722</td>\n    </tr>\n    <tr>\n      <th>policy5</th>\n      <td>28.001663</td>\n      <td>0.276144</td>\n      <td>0.372764</td>\n      <td>0.214182</td>\n      <td>0.106429</td>\n      <td>-0.114024</td>\n      <td>-1.237239</td>\n    </tr>\n    <tr>\n      <th>policy6</th>\n      <td>24.256598</td>\n      <td>0.504577</td>\n      <td>0.572013</td>\n      <td>0.421109</td>\n      <td>0.106429</td>\n      <td>-0.203868</td>\n      <td>-1.447469</td>\n    </tr>\n  </tbody>\n</table>\n</div>"
     },
     "metadata": {},
     "execution_count": 3
    }
   ],
   "source": [
    "payoffs"
   ]
  },
  {
   "cell_type": "code",
   "execution_count": 4,
   "metadata": {},
   "outputs": [],
   "source": [
    "baseline = {'hydropower_revenue':39.30, 'atomic_power_plant_discharge':0.633,\n",
    "       'baltimore_discharge':1.00, 'chester_discharge':1.00, 'recreation':0.00, 'environment':0.1058,\n",
    "       'flood_risk':1.633}"
   ]
  },
  {
   "cell_type": "code",
   "execution_count": 5,
   "metadata": {},
   "outputs": [],
   "source": [
    "baseline = {'hydropower_revenue':0.0, 'atomic_power_plant_discharge':0.0,\n",
    "       'baltimore_discharge':0.00, 'chester_discharge':0.00, 'recreation':0.00, 'environment':-1,\n",
    "       'flood_risk':-2}"
   ]
  },
  {
   "cell_type": "code",
   "execution_count": 6,
   "metadata": {},
   "outputs": [],
   "source": [
    "decisions = ['policy1', 'policy2', 'policy3']\n",
    "payoffs = payoffs[payoffs.index.isin(decisions)]"
   ]
  },
  {
   "cell_type": "code",
   "execution_count": 7,
   "metadata": {},
   "outputs": [],
   "source": [
    "payoffs = payoffs.append(baseline, ignore_index = True)"
   ]
  },
  {
   "cell_type": "code",
   "execution_count": 8,
   "metadata": {},
   "outputs": [],
   "source": [
    "# pick out the actors of interest\n",
    "payoffs = payoffs[['atomic_power_plant_discharge', 'hydropower_revenue']]"
   ]
  },
  {
   "cell_type": "code",
   "execution_count": 9,
   "metadata": {},
   "outputs": [],
   "source": [
    "myConflict = gmcr.model.ConflictModel()"
   ]
  },
  {
   "source": [
    "#### Add players to the conflict arena"
   ],
   "cell_type": "markdown",
   "metadata": {}
  },
  {
   "cell_type": "code",
   "execution_count": 10,
   "metadata": {},
   "outputs": [],
   "source": [
    "hydropower_revenue = gmcr.model.DecisionMaker(myConflict, \"hydropower_revenue\")\n",
    "myConflict.decisionMakers.append(hydropower_revenue)\n",
    "atomic_power_plant_discharge = gmcr.model.DecisionMaker(myConflict, \"atomic_power_plant_discharge\")\n",
    "myConflict.decisionMakers.append(atomic_power_plant_discharge)\n",
    "#baltimore_discharge = gmcr.model.DecisionMaker(myConflict, \"baltimore_discharge\")\n",
    "# myConflict.decisionMakers.append(baltimore_discharge)\n",
    "# chester_discharge = gmcr.model.DecisionMaker(myConflict, \"chester_discharge\")\n",
    "# myConflict.decisionMakers.append(chester_discharge)\n",
    "# recreation = gmcr.model.DecisionMaker(myConflict, \"recreation\")\n",
    "# myConflict.decisionMakers.append(recreation)\n",
    "# environment = gmcr.model.DecisionMaker(myConflict, \"environment\")\n",
    "# myConflict.decisionMakers.append(environment)\n",
    "# flood_risk = gmcr.model.DecisionMaker(myConflict, \"flood_risk\")\n",
    "# myConflict.decisionMakers.append(flood_risk)\n",
    "# print(myConflict.decisionMakers)"
   ]
  },
  {
   "cell_type": "code",
   "execution_count": 11,
   "metadata": {},
   "outputs": [],
   "source": [
    "myConflict.useManualPreferenceRanking = True"
   ]
  },
  {
   "cell_type": "code",
   "execution_count": 12,
   "metadata": {},
   "outputs": [],
   "source": [
    "# Add all the decisions the players must chose from except the baseline \n",
    "nr_decisions = payoffs.shape[0]-1\n",
    "nr_players = payoffs.shape[1]\n",
    "for i in range(0, nr_players):\n",
    "    for j in decisions:\n",
    "        myConflict.decisionMakers[i].addOption(j)"
   ]
  },
  {
   "cell_type": "code",
   "execution_count": 13,
   "metadata": {},
   "outputs": [
    {
     "output_type": "stream",
     "name": "stdout",
     "text": [
      "2 players\n3 decisions\n[(9, '100100'), (10, '010100'), (12, '001100'), (17, '100010'), (18, '010010'), (20, '001010'), (33, '100001'), (34, '010001'), (36, '001001')] temp\nWall time: 999 µs\n"
     ]
    }
   ],
   "source": [
    "%%time\n",
    "myConflict.recalculateFeasibleStates()"
   ]
  },
  {
   "source": [
    "### Step 3: Identify preference ranking"
   ],
   "cell_type": "markdown",
   "metadata": {}
  },
  {
   "cell_type": "code",
   "execution_count": 14,
   "metadata": {},
   "outputs": [],
   "source": [
    "# Create a temporary list mapping each state to the policy decision that it would result in. Each state is a combination of strategies an actor chooses\n",
    "temp = [(x,y) for x,y in zip([feas for feas in myConflict.feasibles.name], [feas for feas in myConflict.feasibles])]"
   ]
  },
  {
   "cell_type": "code",
   "execution_count": 15,
   "metadata": {},
   "outputs": [],
   "source": [
    "# create a dictionary mapping every policy to all the states where it gets picked\n",
    "dict = {}\n",
    "for i in set([feas for feas in myConflict.feasibles.name]):\n",
    "    dict[i] = []\n",
    "for i in temp:\n",
    "    dict[i[0]].append(i[1])"
   ]
  },
  {
   "cell_type": "code",
   "execution_count": 16,
   "metadata": {},
   "outputs": [],
   "source": [
    "# create ordinal ranking between all the options\n",
    "# rename the baseline decision\n",
    "ranks = payoffs.rank(ascending = False)\n",
    "ranks = ranks.reset_index()\n",
    "ranks['index']= ranks['index'].replace(nr_decisions, 'baseline')"
   ]
  },
  {
   "cell_type": "code",
   "execution_count": 17,
   "metadata": {},
   "outputs": [],
   "source": [
    "actors = [dm.name for dm in myConflict.decisionMakers]"
   ]
  },
  {
   "cell_type": "code",
   "execution_count": 18,
   "metadata": {},
   "outputs": [
    {
     "output_type": "execute_result",
     "data": {
      "text/plain": [
       "   atomic_power_plant_discharge  hydropower_revenue\n",
       "0                      0.662558           20.452941\n",
       "1                      0.413537           27.709023\n",
       "2                      0.276144           28.001663\n",
       "3                      0.000000            0.000000"
      ],
      "text/html": "<div>\n<style scoped>\n    .dataframe tbody tr th:only-of-type {\n        vertical-align: middle;\n    }\n\n    .dataframe tbody tr th {\n        vertical-align: top;\n    }\n\n    .dataframe thead th {\n        text-align: right;\n    }\n</style>\n<table border=\"1\" class=\"dataframe\">\n  <thead>\n    <tr style=\"text-align: right;\">\n      <th></th>\n      <th>atomic_power_plant_discharge</th>\n      <th>hydropower_revenue</th>\n    </tr>\n  </thead>\n  <tbody>\n    <tr>\n      <th>0</th>\n      <td>0.662558</td>\n      <td>20.452941</td>\n    </tr>\n    <tr>\n      <th>1</th>\n      <td>0.413537</td>\n      <td>27.709023</td>\n    </tr>\n    <tr>\n      <th>2</th>\n      <td>0.276144</td>\n      <td>28.001663</td>\n    </tr>\n    <tr>\n      <th>3</th>\n      <td>0.000000</td>\n      <td>0.000000</td>\n    </tr>\n  </tbody>\n</table>\n</div>"
     },
     "metadata": {},
     "execution_count": 18
    }
   ],
   "source": [
    "payoffs"
   ]
  },
  {
   "cell_type": "code",
   "execution_count": 19,
   "metadata": {},
   "outputs": [
    {
     "output_type": "execute_result",
     "data": {
      "text/plain": [
       "      index  atomic_power_plant_discharge  hydropower_revenue\n",
       "0         0                           1.0                 3.0\n",
       "1         1                           2.0                 2.0\n",
       "2         2                           3.0                 1.0\n",
       "3  baseline                           4.0                 4.0"
      ],
      "text/html": "<div>\n<style scoped>\n    .dataframe tbody tr th:only-of-type {\n        vertical-align: middle;\n    }\n\n    .dataframe tbody tr th {\n        vertical-align: top;\n    }\n\n    .dataframe thead th {\n        text-align: right;\n    }\n</style>\n<table border=\"1\" class=\"dataframe\">\n  <thead>\n    <tr style=\"text-align: right;\">\n      <th></th>\n      <th>index</th>\n      <th>atomic_power_plant_discharge</th>\n      <th>hydropower_revenue</th>\n    </tr>\n  </thead>\n  <tbody>\n    <tr>\n      <th>0</th>\n      <td>0</td>\n      <td>1.0</td>\n      <td>3.0</td>\n    </tr>\n    <tr>\n      <th>1</th>\n      <td>1</td>\n      <td>2.0</td>\n      <td>2.0</td>\n    </tr>\n    <tr>\n      <th>2</th>\n      <td>2</td>\n      <td>3.0</td>\n      <td>1.0</td>\n    </tr>\n    <tr>\n      <th>3</th>\n      <td>baseline</td>\n      <td>4.0</td>\n      <td>4.0</td>\n    </tr>\n  </tbody>\n</table>\n</div>"
     },
     "metadata": {},
     "execution_count": 19
    }
   ],
   "source": [
    "ranks"
   ]
  },
  {
   "cell_type": "code",
   "execution_count": 20,
   "metadata": {},
   "outputs": [],
   "source": [
    "# create a preference ranking for each actor based on their ranking\n",
    "# Add that to the conflict\n",
    "for i in range((nr_players)):\n",
    "    rank_order = list(ranks.sort_values(by = actors[i])['index'])\n",
    "    index_map = {v:j for j, v in enumerate(rank_order)}\n",
    "    sorted_list = sorted(dict.items(), key=lambda x: index_map[x[0]])\n",
    "    myConflict.decisionMakers[i].preferenceRanking = list(list(zip(*sorted_list))[1])"
   ]
  },
  {
   "cell_type": "code",
   "execution_count": 21,
   "metadata": {},
   "outputs": [],
   "source": [
    "# calculate preferences for every actor based on the ranking\n",
    "for i in range((nr_players)):\n",
    "     myConflict.decisionMakers[i].calculatePreferences()"
   ]
  },
  {
   "cell_type": "code",
   "execution_count": 22,
   "metadata": {},
   "outputs": [
    {
     "output_type": "execute_result",
     "data": {
      "text/plain": [
       "array([7, 6, 6, 6, 8, 6, 6, 6, 9])"
      ]
     },
     "metadata": {},
     "execution_count": 22
    }
   ],
   "source": [
    "hydropower_revenue.payoffs"
   ]
  },
  {
   "cell_type": "code",
   "execution_count": 23,
   "metadata": {},
   "outputs": [],
   "source": [
    "%reload_ext autoreload\n",
    "%autoreload 1\n",
    "import data_02_conflictSolvers as solvers"
   ]
  },
  {
   "cell_type": "code",
   "execution_count": 24,
   "metadata": {},
   "outputs": [
    {
     "output_type": "stream",
     "name": "stdout",
     "text": [
      "[8, 16, 32] other COs moves\n[1, 2, 4] focal COs moves\nfrom state 0\nhydropower_revenue for dm\n[] reachable\nfrom state 32\nhydropower_revenue for dm\n[36, 34, 33] reachable\n8\n7\n6\nfrom state 16\nhydropower_revenue for dm\n[20, 18, 17] reachable\n5\n4\n3\nfrom state 48\nhydropower_revenue for dm\n[] reachable\nfrom state 8\nhydropower_revenue for dm\n[12, 10, 9] reachable\n2\n1\n0\nfrom state 40\nhydropower_revenue for dm\n[] reachable\nfrom state 24\nhydropower_revenue for dm\n[] reachable\nfrom state 56\nhydropower_revenue for dm\n[] reachable\n[1, 2, 4] other COs moves\n[8, 16, 32] focal COs moves\nfrom state 0\natomic_power_plant_discharge for dm\n[] reachable\nfrom state 4\natomic_power_plant_discharge for dm\n[36, 20, 12] reachable\n8\n5\n2\nfrom state 2\natomic_power_plant_discharge for dm\n[34, 18, 10] reachable\n7\n4\n1\nfrom state 6\natomic_power_plant_discharge for dm\n[] reachable\nfrom state 1\natomic_power_plant_discharge for dm\n[33, 17, 9] reachable\n6\n3\n0\nfrom state 5\natomic_power_plant_discharge for dm\n[] reachable\nfrom state 3\natomic_power_plant_discharge for dm\n[] reachable\nfrom state 7\natomic_power_plant_discharge for dm\n[] reachable\nWall time: 1.96 ms\n"
     ]
    }
   ],
   "source": [
    "%%time\n",
    "lSolver = solvers.LogicalSolver(myConflict)"
   ]
  },
  {
   "cell_type": "code",
   "execution_count": 132,
   "metadata": {},
   "outputs": [
    {
     "output_type": "execute_result",
     "data": {
      "text/plain": [
       "{5: 1, 6: 2, 9: 3, 10: 4}"
      ]
     },
     "metadata": {},
     "execution_count": 132
    }
   ],
   "source": [
    "myConflict.feasibles.toOrdered"
   ]
  },
  {
   "cell_type": "code",
   "execution_count": 134,
   "metadata": {},
   "outputs": [
    {
     "output_type": "execute_result",
     "data": {
      "text/plain": [
       "3"
      ]
     },
     "metadata": {},
     "execution_count": 134
    }
   ],
   "source": [
    "lSolver.conflict.feasibles.toOrdered[10]-1"
   ]
  },
  {
   "cell_type": "code",
   "execution_count": 136,
   "metadata": {},
   "outputs": [
    {
     "output_type": "execute_result",
     "data": {
      "text/plain": [
       "2"
      ]
     },
     "metadata": {},
     "execution_count": 136
    }
   ],
   "source": [
    "lSolver.conflict.feasibles.toOrdered[9]-1"
   ]
  },
  {
   "cell_type": "code",
   "execution_count": 126,
   "metadata": {},
   "outputs": [
    {
     "output_type": "execute_result",
     "data": {
      "text/plain": [
       "array([[0, 1, 0, 0],\n",
       "       [1, 0, 0, 0],\n",
       "       [0, 0, 0, 1],\n",
       "       [0, 0, 1, 0]])"
      ]
     },
     "metadata": {},
     "execution_count": 126
    }
   ],
   "source": [
    "hydropower_revenue.reachability"
   ]
  },
  {
   "cell_type": "code",
   "execution_count": 33,
   "metadata": {},
   "outputs": [
    {
     "output_type": "stream",
     "name": "stdout",
     "text": [
      "Wall time: 1.23 ms\n"
     ]
    }
   ],
   "source": [
    "%%time\n",
    "lSolver.findEquilibria()"
   ]
  },
  {
   "cell_type": "code",
   "execution_count": 35,
   "metadata": {},
   "outputs": [],
   "source": [
    "decisions = np.array(myConflict.feasibles.name)"
   ]
  },
  {
   "cell_type": "code",
   "execution_count": 35,
   "metadata": {},
   "outputs": [
    {
     "output_type": "execute_result",
     "data": {
      "text/plain": [
       "(array([0, 4, 8], dtype=int64),)"
      ]
     },
     "metadata": {},
     "execution_count": 35
    }
   ],
   "source": [
    "np.where(np.array(myConflict.feasibles.name) != 'baseline')"
   ]
  },
  {
   "cell_type": "code",
   "execution_count": 90,
   "metadata": {},
   "outputs": [],
   "source": [
    "#hydropower_revenue.preferenceRanking"
   ]
  },
  {
   "cell_type": "code",
   "execution_count": 36,
   "metadata": {},
   "outputs": [
    {
     "output_type": "stream",
     "name": "stdout",
     "text": [
      "Nash Equilibrium: {'0', '2', '1'} GMR Equilirbium: {'0', '2', 'baseline', '1'} SEQ Equilibrium: {'0', '2', '1'} SIM Equilibrium: {'0', '2', 'baseline', '1'} SEQ SIM Equilibrium: {'0', '2', 'baseline', '1'} SMR Equilirbium: {'0', '2', '1'}\n"
     ]
    }
   ],
   "source": [
    "print(f'Nash Equilibrium: {set(decisions[lSolver.nashEquilibria])}',\n",
    "f'GMR Equilirbium: {set(decisions[lSolver.gmrEquilibria])}',\n",
    "f'SEQ Equilibrium: {set(decisions[lSolver.seqEquilibria])}',\n",
    "f'SIM Equilibrium: {set(decisions[lSolver.simEquilibria])}',\n",
    "f'SEQ SIM Equilibrium: {set(decisions[lSolver.seqSimEquilibria])}',\n",
    "f'SMR Equilirbium: {set(decisions[lSolver.smrEquilibria])}')"
   ]
  },
  {
   "cell_type": "code",
   "execution_count": 222,
   "metadata": {},
   "outputs": [
    {
     "output_type": "execute_result",
     "data": {
      "text/plain": [
       "array([False,  True,  True,  True, False,  True,  True,  True, False])"
      ]
     },
     "metadata": {},
     "execution_count": 222
    }
   ],
   "source": [
    "lSolver.gmrEquilibria"
   ]
  },
  {
   "cell_type": "code",
   "execution_count": 149,
   "metadata": {},
   "outputs": [
    {
     "output_type": "execute_result",
     "data": {
      "text/plain": [
       "array([[ 0,  0,  0,  2],\n",
       "       [ 0,  0, -2,  0]])"
      ]
     },
     "metadata": {},
     "execution_count": 149
    }
   ],
   "source": [
    "hydropower_revenue.reachability[2:]* hydropower_revenue.payoffMatrix[2:]"
   ]
  },
  {
   "cell_type": "code",
   "execution_count": 144,
   "metadata": {},
   "outputs": [
    {
     "output_type": "execute_result",
     "data": {
      "text/plain": [
       "[[3], [0], [1, 2]]"
      ]
     },
     "metadata": {},
     "execution_count": 144
    }
   ],
   "source": [
    "hydropower_revenue.preferenceRanking"
   ]
  },
  {
   "cell_type": "code",
   "execution_count": 145,
   "metadata": {},
   "outputs": [
    {
     "output_type": "execute_result",
     "data": {
      "text/plain": [
       "array([[ 1,  0,  0,  2],\n",
       "       [-1, -2, -2,  0]])"
      ]
     },
     "metadata": {},
     "execution_count": 145
    }
   ],
   "source": [
    "hydropower_revenue.payoffMatrix[2:]"
   ]
  },
  {
   "cell_type": "code",
   "execution_count": 148,
   "metadata": {},
   "outputs": [
    {
     "output_type": "execute_result",
     "data": {
      "text/plain": [
       "(array([0], dtype=int64), array([3], dtype=int64))"
      ]
     },
     "metadata": {},
     "execution_count": 148
    }
   ],
   "source": [
    "np.nonzero(hydropower_revenue.reachability[2, :] *\n",
    "                           hydropower_revenue.payoffMatrix[2 :] > 0)"
   ]
  },
  {
   "cell_type": "code",
   "execution_count": 102,
   "metadata": {},
   "outputs": [
    {
     "output_type": "execute_result",
     "data": {
      "text/plain": [
       "[0]"
      ]
     },
     "metadata": {},
     "execution_count": 102
    }
   ],
   "source": [
    "lSolver.UIs(hydropower_revenue,2)"
   ]
  },
  {
   "cell_type": "code",
   "execution_count": null,
   "metadata": {},
   "outputs": [],
   "source": []
  },
  {
   "cell_type": "code",
   "execution_count": 223,
   "metadata": {},
   "outputs": [
    {
     "output_type": "execute_result",
     "data": {
      "text/plain": [
       "(False,\n",
       " 'From state 1 (decimal 9, payoff 6), hydropower_revenue has UIs available to: \\n   state 2 (decimal 10, payoff 9),\\n   state 3 (decimal 12, payoff 9)\\nCheck for sanctioning...\\n\\nstate 1 (decimal 9, payoff 6) is unstable by GMR for focal DM hydropower_revenue, since other DMs cannot effectively sanction a move to state 2 (decimal 10, payoff 9)')"
      ]
     },
     "metadata": {},
     "execution_count": 223
    }
   ],
   "source": [
    "lSolver.gmr(hydropower_revenue,0)"
   ]
  }
 ]
}