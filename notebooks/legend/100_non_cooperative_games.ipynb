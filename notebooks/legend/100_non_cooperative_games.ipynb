{
 "metadata": {
  "language_info": {
   "codemirror_mode": {
    "name": "ipython",
    "version": 3
   },
   "file_extension": ".py",
   "mimetype": "text/x-python",
   "name": "python",
   "nbconvert_exporter": "python",
   "pygments_lexer": "ipython3",
   "version": "3.8.5"
  },
  "orig_nbformat": 2,
  "kernelspec": {
   "name": "python385jvsc74a57bd0c377a3a05ba1d31fd00218651f72b0a27b3c45e2b83cef10397a5da0ee866dc9",
   "display_name": "Python 3.8.5 64-bit ('base': conda)"
  }
 },
 "nbformat": 4,
 "nbformat_minor": 2,
 "cells": [
  {
   "cell_type": "code",
   "execution_count": 158,
   "metadata": {},
   "outputs": [],
   "source": [
    "import pandas as pandas\n",
    "import numpy as np \n",
    "import seaborn as sns \n",
    "import matplotlib.pyplot as plt \n",
    " "
   ]
  },
  {
   "cell_type": "code",
   "execution_count": 179,
   "metadata": {},
   "outputs": [
    {
     "output_type": "error",
     "ename": "SyntaxError",
     "evalue": "invalid syntax (<ipython-input-179-aa1160d1c124>, line 1)",
     "traceback": [
      "\u001b[1;36m  File \u001b[1;32m\"<ipython-input-179-aa1160d1c124>\"\u001b[1;36m, line \u001b[1;32m1\u001b[0m\n\u001b[1;33m    from 'gmcr-py'.data_01_conflictModel as model\u001b[0m\n\u001b[1;37m         ^\u001b[0m\n\u001b[1;31mSyntaxError\u001b[0m\u001b[1;31m:\u001b[0m invalid syntax\n"
     ]
    }
   ],
   "source": [
    "from 'gmcr-py'.data_01_conflictModel as model"
   ]
  },
  {
   "cell_type": "code",
   "execution_count": 176,
   "metadata": {},
   "outputs": [
    {
     "output_type": "error",
     "ename": "ModuleNotFoundError",
     "evalue": "No module named 'data_01_conflictModel'",
     "traceback": [
      "\u001b[1;31m---------------------------------------------------------------------------\u001b[0m",
      "\u001b[1;31mModuleNotFoundError\u001b[0m                       Traceback (most recent call last)",
      "\u001b[1;32m<ipython-input-176-3a89160a1a17>\u001b[0m in \u001b[0;36m<module>\u001b[1;34m\u001b[0m\n\u001b[0;32m      1\u001b[0m \u001b[0mget_ipython\u001b[0m\u001b[1;33m(\u001b[0m\u001b[1;33m)\u001b[0m\u001b[1;33m.\u001b[0m\u001b[0mrun_line_magic\u001b[0m\u001b[1;33m(\u001b[0m\u001b[1;34m'reload_ext'\u001b[0m\u001b[1;33m,\u001b[0m \u001b[1;34m'autoreload'\u001b[0m\u001b[1;33m)\u001b[0m\u001b[1;33m\u001b[0m\u001b[1;33m\u001b[0m\u001b[0m\n\u001b[0;32m      2\u001b[0m \u001b[0mget_ipython\u001b[0m\u001b[1;33m(\u001b[0m\u001b[1;33m)\u001b[0m\u001b[1;33m.\u001b[0m\u001b[0mrun_line_magic\u001b[0m\u001b[1;33m(\u001b[0m\u001b[1;34m'autoreload'\u001b[0m\u001b[1;33m,\u001b[0m \u001b[1;34m'2'\u001b[0m\u001b[1;33m)\u001b[0m\u001b[1;33m\u001b[0m\u001b[1;33m\u001b[0m\u001b[0m\n\u001b[1;32m----> 3\u001b[1;33m \u001b[1;32mimport\u001b[0m \u001b[0mdata_01_conflictModel\u001b[0m \u001b[1;32mas\u001b[0m \u001b[0mmodel\u001b[0m\u001b[1;33m\u001b[0m\u001b[1;33m\u001b[0m\u001b[0m\n\u001b[0m\u001b[0;32m      4\u001b[0m \u001b[1;32mimport\u001b[0m \u001b[0mdata_02_conflictSolvers\u001b[0m \u001b[1;32mas\u001b[0m \u001b[0msolvers\u001b[0m\u001b[1;33m\u001b[0m\u001b[1;33m\u001b[0m\u001b[0m\n\u001b[0;32m      5\u001b[0m \u001b[1;32mimport\u001b[0m \u001b[0mdata_03_gmcrUtilities\u001b[0m \u001b[1;32mas\u001b[0m \u001b[0mgmcrUtils\u001b[0m\u001b[1;33m\u001b[0m\u001b[1;33m\u001b[0m\u001b[0m\n",
      "\u001b[1;31mModuleNotFoundError\u001b[0m: No module named 'data_01_conflictModel'"
     ]
    }
   ],
   "source": [
    "%reload_ext autoreload\n",
    "%autoreload 2\n",
    "import data_01_conflictModel as model\n",
    "import data_02_conflictSolvers as solvers\n",
    "import data_03_gmcrUtilities as gmcrUtils\n",
    "import gmcr\n",
    "import numpy as np"
   ]
  },
  {
   "cell_type": "code",
   "execution_count": 159,
   "metadata": {},
   "outputs": [],
   "source": [
    "%reload_ext autoreload\n",
    "%autoreload 2\n",
    "from utilities import *"
   ]
  },
  {
   "cell_type": "code",
   "execution_count": 160,
   "metadata": {},
   "outputs": [
    {
     "output_type": "execute_result",
     "data": {
      "text/plain": [
       "'c:\\\\Users\\\\sahit\\\\Google Drive\\\\EPA\\\\Thesis\\\\susquehanna\\\\susquehanna_python\\\\notebooks'"
      ]
     },
     "metadata": {},
     "execution_count": 160
    }
   ],
   "source": [
    "import os\n",
    "os.getcwd()"
   ]
  },
  {
   "source": [
    "### 0. Load payoff data from running the best optimization results "
   ],
   "cell_type": "markdown",
   "metadata": {}
  },
  {
   "cell_type": "code",
   "execution_count": 161,
   "metadata": {},
   "outputs": [],
   "source": [
    "payoffs = load_data(\"../model/data/processed/50yr_samples.pickle\")"
   ]
  },
  {
   "cell_type": "code",
   "execution_count": 166,
   "metadata": {},
   "outputs": [
    {
     "output_type": "execute_result",
     "data": {
      "text/plain": [
       "           hydropower_revenue  atomic_power_plant_discharge  \\\n",
       "best_app            33.428360                      0.675815   \n",
       "best_ch             44.640454                      0.667632   \n",
       "best_comp           47.521088                      0.675057   \n",
       "best_env            41.245030                      0.669965   \n",
       "best_rec            42.795952                      0.675009   \n",
       "\n",
       "           baltimore_discharge  chester_discharge  recreation  environment  \\\n",
       "best_app              0.450959           0.602542    0.750714    -0.116995   \n",
       "best_ch               0.581992           0.578373    0.768214    -0.045616   \n",
       "best_comp             0.408810           0.581773    0.839643    -0.032985   \n",
       "best_env              0.499875           0.603974    0.768214    -0.086025   \n",
       "best_rec              0.577004           0.604840    0.750714    -0.083129   \n",
       "\n",
       "           flood_duration  \n",
       "best_app        -1.666667  \n",
       "best_ch         -1.000000  \n",
       "best_comp       -0.833333  \n",
       "best_env        -1.666667  \n",
       "best_rec        -1.241667  "
      ],
      "text/html": "<div>\n<style scoped>\n    .dataframe tbody tr th:only-of-type {\n        vertical-align: middle;\n    }\n\n    .dataframe tbody tr th {\n        vertical-align: top;\n    }\n\n    .dataframe thead th {\n        text-align: right;\n    }\n</style>\n<table border=\"1\" class=\"dataframe\">\n  <thead>\n    <tr style=\"text-align: right;\">\n      <th></th>\n      <th>hydropower_revenue</th>\n      <th>atomic_power_plant_discharge</th>\n      <th>baltimore_discharge</th>\n      <th>chester_discharge</th>\n      <th>recreation</th>\n      <th>environment</th>\n      <th>flood_duration</th>\n    </tr>\n  </thead>\n  <tbody>\n    <tr>\n      <th>best_app</th>\n      <td>33.428360</td>\n      <td>0.675815</td>\n      <td>0.450959</td>\n      <td>0.602542</td>\n      <td>0.750714</td>\n      <td>-0.116995</td>\n      <td>-1.666667</td>\n    </tr>\n    <tr>\n      <th>best_ch</th>\n      <td>44.640454</td>\n      <td>0.667632</td>\n      <td>0.581992</td>\n      <td>0.578373</td>\n      <td>0.768214</td>\n      <td>-0.045616</td>\n      <td>-1.000000</td>\n    </tr>\n    <tr>\n      <th>best_comp</th>\n      <td>47.521088</td>\n      <td>0.675057</td>\n      <td>0.408810</td>\n      <td>0.581773</td>\n      <td>0.839643</td>\n      <td>-0.032985</td>\n      <td>-0.833333</td>\n    </tr>\n    <tr>\n      <th>best_env</th>\n      <td>41.245030</td>\n      <td>0.669965</td>\n      <td>0.499875</td>\n      <td>0.603974</td>\n      <td>0.768214</td>\n      <td>-0.086025</td>\n      <td>-1.666667</td>\n    </tr>\n    <tr>\n      <th>best_rec</th>\n      <td>42.795952</td>\n      <td>0.675009</td>\n      <td>0.577004</td>\n      <td>0.604840</td>\n      <td>0.750714</td>\n      <td>-0.083129</td>\n      <td>-1.241667</td>\n    </tr>\n  </tbody>\n</table>\n</div>"
     },
     "metadata": {},
     "execution_count": 166
    }
   ],
   "source": [
    "payoffs"
   ]
  },
  {
   "cell_type": "code",
   "execution_count": 165,
   "metadata": {},
   "outputs": [],
   "source": [
    "payoffs = payoffs.drop('best_hydro')"
   ]
  },
  {
   "cell_type": "code",
   "execution_count": 167,
   "metadata": {},
   "outputs": [],
   "source": [
    "payoffs = payoffs.reset_index(drop = True)"
   ]
  },
  {
   "source": [
    "#### 0.1 Borrow Baseline Values from (Guiliani et. al., 2014)\n",
    "Assumption: Flood Duration in baseline value is assumed to be 2 days "
   ],
   "cell_type": "markdown",
   "metadata": {}
  },
  {
   "cell_type": "code",
   "execution_count": 168,
   "metadata": {},
   "outputs": [],
   "source": [
    "baseline = {'hydropower_revenue':39.30, 'atomic_power_plant_discharge':0.633,\n",
    "       'baltimore_discharge':1.00, 'chester_discharge':1.00, 'recreation':0.00, 'environment':0.1058,\n",
    "       'flood_duration':1.633}"
   ]
  },
  {
   "cell_type": "code",
   "execution_count": 169,
   "metadata": {},
   "outputs": [],
   "source": [
    "payoffs = payoffs.append(baseline, ignore_index = True)"
   ]
  },
  {
   "cell_type": "code",
   "execution_count": 170,
   "metadata": {},
   "outputs": [
    {
     "output_type": "execute_result",
     "data": {
      "text/plain": [
       "{'decision': 5.0,\n",
       " 'hydropower_revenue': 0.41664325086698106,\n",
       " 'atomic_power_plant_discharge': 0.0,\n",
       " 'baltimore_discharge': 1.0,\n",
       " 'chester_discharge': 1.0,\n",
       " 'recreation': 0.0,\n",
       " 'environment': 1.0,\n",
       " 'flood_duration': 0.9999999999999999}"
      ]
     },
     "metadata": {},
     "execution_count": 170
    }
   ],
   "source": [
    "normalized_baseline = normalize(payoffs).iloc[5].to_dict()\n",
    "normalized_baseline"
   ]
  },
  {
   "cell_type": "code",
   "execution_count": 171,
   "metadata": {},
   "outputs": [
    {
     "output_type": "stream",
     "name": "stdout",
     "text": [
      "6 decisions\nNash equilibrium is ['baseline', 1, 2, 3, 4, 5]\nGMR for atomic_power_plant_discharge is [{'decision': 'baseline'}, {'decision': 'baseline'}, {'decision': 'baseline'}, {'decision': 'baseline'}, {'decision': 'baseline'}, {'decision': 'baseline'}, {'decision': 'baseline'}, {'decision': 'baseline'}, {'decision': 'baseline'}, {'decision': 'baseline'}, {'decision': 'baseline'}, {'decision': 'baseline'}, {'decision': 'baseline'}, {'decision': 'baseline'}, {'decision': 'baseline'}, {'decision': 'baseline'}, {'decision': 'baseline'}, {'decision': 'baseline'}, {'decision': 'baseline'}, {'decision': 'baseline'}, {'decision': 'baseline'}, {'decision': 'baseline'}, {'decision': 'baseline'}, {'decision': 'baseline'}, {'decision': 'baseline'}]\nGMR for hydropower_revenue is [{'decision': 'baseline'}, {'decision': 'baseline'}, {'decision': 'baseline'}, {'decision': 'baseline'}, {'decision': 'baseline'}, {'decision': 'baseline'}, {'decision': 'baseline'}, {'decision': 'baseline'}, {'decision': 'baseline'}, {'decision': 'baseline'}, {'decision': 'baseline'}, {'decision': 'baseline'}, {'decision': 'baseline'}, {'decision': 'baseline'}, {'decision': 'baseline'}, {'decision': 'baseline'}, {'decision': 'baseline'}, {'decision': 'baseline'}, {'decision': 'baseline'}, {'decision': 'baseline'}]\n"
     ]
    }
   ],
   "source": [
    "%reload_ext autoreload\n",
    "%autoreload 2\n",
    "from non_cooperative_games import *\n",
    "player2 = 'hydropower_revenue'\n",
    "player1 = 'atomic_power_plant_discharge'\n",
    "A, B, game_outcomes = payoff_matrix(player1, player2, normalized_baseline, normalize(payoffs))\n",
    "G = graphs(A, B)\n",
    "\n",
    "equilibrium = list(dict.fromkeys([game_outcomes[n]['decision'] for n,v in G.nodes(data = True) if v['out_arrows'] == 0]))\n",
    "print(f'Nash equilibrium is {equilibrium}')\n",
    "gmr_p1 = gmr(G, 1,'u1')\n",
    "print(f'GMR for {player1} is', [game_outcomes[x] for x in gmr_p1])\n",
    "gmr_p2 = gmr(G, 2,'u2')\n",
    "print(f'GMR for {player2} is', [game_outcomes[x] for x in gmr_p2])"
   ]
  },
  {
   "cell_type": "code",
   "execution_count": 172,
   "metadata": {},
   "outputs": [
    {
     "output_type": "execute_result",
     "data": {
      "text/plain": [
       "   atomic_power_plant_discharge  hydropower_revenue\n",
       "0                      0.675815           33.428360\n",
       "1                      0.667632           44.640454\n",
       "2                      0.675057           47.521088\n",
       "3                      0.669965           41.245030\n",
       "4                      0.675009           42.795952\n",
       "5                      0.633000           39.300000"
      ],
      "text/html": "<div>\n<style scoped>\n    .dataframe tbody tr th:only-of-type {\n        vertical-align: middle;\n    }\n\n    .dataframe tbody tr th {\n        vertical-align: top;\n    }\n\n    .dataframe thead th {\n        text-align: right;\n    }\n</style>\n<table border=\"1\" class=\"dataframe\">\n  <thead>\n    <tr style=\"text-align: right;\">\n      <th></th>\n      <th>atomic_power_plant_discharge</th>\n      <th>hydropower_revenue</th>\n    </tr>\n  </thead>\n  <tbody>\n    <tr>\n      <th>0</th>\n      <td>0.675815</td>\n      <td>33.428360</td>\n    </tr>\n    <tr>\n      <th>1</th>\n      <td>0.667632</td>\n      <td>44.640454</td>\n    </tr>\n    <tr>\n      <th>2</th>\n      <td>0.675057</td>\n      <td>47.521088</td>\n    </tr>\n    <tr>\n      <th>3</th>\n      <td>0.669965</td>\n      <td>41.245030</td>\n    </tr>\n    <tr>\n      <th>4</th>\n      <td>0.675009</td>\n      <td>42.795952</td>\n    </tr>\n    <tr>\n      <th>5</th>\n      <td>0.633000</td>\n      <td>39.300000</td>\n    </tr>\n  </tbody>\n</table>\n</div>"
     },
     "metadata": {},
     "execution_count": 172
    }
   ],
   "source": [
    "payoffs[[player1, player2]]"
   ]
  },
  {
   "cell_type": "code",
   "execution_count": 175,
   "metadata": {},
   "outputs": [
    {
     "output_type": "execute_result",
     "data": {
      "text/plain": [
       "   atomic_power_plant_discharge  hydropower_revenue\n",
       "2                           5.0                 6.0\n",
       "1                           2.0                 5.0\n",
       "4                           4.0                 4.0\n",
       "3                           3.0                 3.0\n",
       "5                           1.0                 2.0\n",
       "0                           6.0                 1.0"
      ],
      "text/html": "<div>\n<style scoped>\n    .dataframe tbody tr th:only-of-type {\n        vertical-align: middle;\n    }\n\n    .dataframe tbody tr th {\n        vertical-align: top;\n    }\n\n    .dataframe thead th {\n        text-align: right;\n    }\n</style>\n<table border=\"1\" class=\"dataframe\">\n  <thead>\n    <tr style=\"text-align: right;\">\n      <th></th>\n      <th>atomic_power_plant_discharge</th>\n      <th>hydropower_revenue</th>\n    </tr>\n  </thead>\n  <tbody>\n    <tr>\n      <th>2</th>\n      <td>5.0</td>\n      <td>6.0</td>\n    </tr>\n    <tr>\n      <th>1</th>\n      <td>2.0</td>\n      <td>5.0</td>\n    </tr>\n    <tr>\n      <th>4</th>\n      <td>4.0</td>\n      <td>4.0</td>\n    </tr>\n    <tr>\n      <th>3</th>\n      <td>3.0</td>\n      <td>3.0</td>\n    </tr>\n    <tr>\n      <th>5</th>\n      <td>1.0</td>\n      <td>2.0</td>\n    </tr>\n    <tr>\n      <th>0</th>\n      <td>6.0</td>\n      <td>1.0</td>\n    </tr>\n  </tbody>\n</table>\n</div>"
     },
     "metadata": {},
     "execution_count": 175
    }
   ],
   "source": [
    "normalize(payoffs)[[player1, player2]].rank().sort_values(by = \"hydropower_revenue\", ascending = False)"
   ]
  },
  {
   "cell_type": "code",
   "execution_count": 95,
   "metadata": {},
   "outputs": [
    {
     "output_type": "execute_result",
     "data": {
      "text/plain": [
       "   index  hydropower_revenue  atomic_power_plant_discharge  \\\n",
       "0    1.0           44.640454                      0.667632   \n",
       "1    2.0           47.521088                      0.675057   \n",
       "2    NaN           39.300000                      0.633000   \n",
       "\n",
       "   baltimore_discharge  chester_discharge  recreation  environment  \\\n",
       "0             0.581992           0.578373    0.768214    -0.045616   \n",
       "1             0.408810           0.581773    0.839643    -0.032985   \n",
       "2             1.000000           1.000000    0.000000     0.105800   \n",
       "\n",
       "   flood_duration  \n",
       "0       -1.000000  \n",
       "1       -0.833333  \n",
       "2        1.633000  "
      ],
      "text/html": "<div>\n<style scoped>\n    .dataframe tbody tr th:only-of-type {\n        vertical-align: middle;\n    }\n\n    .dataframe tbody tr th {\n        vertical-align: top;\n    }\n\n    .dataframe thead th {\n        text-align: right;\n    }\n</style>\n<table border=\"1\" class=\"dataframe\">\n  <thead>\n    <tr style=\"text-align: right;\">\n      <th></th>\n      <th>index</th>\n      <th>hydropower_revenue</th>\n      <th>atomic_power_plant_discharge</th>\n      <th>baltimore_discharge</th>\n      <th>chester_discharge</th>\n      <th>recreation</th>\n      <th>environment</th>\n      <th>flood_duration</th>\n    </tr>\n  </thead>\n  <tbody>\n    <tr>\n      <th>0</th>\n      <td>1.0</td>\n      <td>44.640454</td>\n      <td>0.667632</td>\n      <td>0.581992</td>\n      <td>0.578373</td>\n      <td>0.768214</td>\n      <td>-0.045616</td>\n      <td>-1.000000</td>\n    </tr>\n    <tr>\n      <th>1</th>\n      <td>2.0</td>\n      <td>47.521088</td>\n      <td>0.675057</td>\n      <td>0.408810</td>\n      <td>0.581773</td>\n      <td>0.839643</td>\n      <td>-0.032985</td>\n      <td>-0.833333</td>\n    </tr>\n    <tr>\n      <th>2</th>\n      <td>NaN</td>\n      <td>39.300000</td>\n      <td>0.633000</td>\n      <td>1.000000</td>\n      <td>1.000000</td>\n      <td>0.000000</td>\n      <td>0.105800</td>\n      <td>1.633000</td>\n    </tr>\n  </tbody>\n</table>\n</div>"
     },
     "metadata": {},
     "execution_count": 95
    }
   ],
   "source": [
    "payoffs"
   ]
  }
 ]
}