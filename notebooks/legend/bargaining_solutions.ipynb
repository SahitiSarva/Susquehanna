{
 "metadata": {
  "language_info": {
   "codemirror_mode": {
    "name": "ipython",
    "version": 3
   },
   "file_extension": ".py",
   "mimetype": "text/x-python",
   "name": "python",
   "nbconvert_exporter": "python",
   "pygments_lexer": "ipython3",
   "version": "3.8.5"
  },
  "orig_nbformat": 2,
  "kernelspec": {
   "name": "python385jvsc74a57bd0c377a3a05ba1d31fd00218651f72b0a27b3c45e2b83cef10397a5da0ee866dc9",
   "display_name": "Python 3.8.5 64-bit ('base': conda)"
  }
 },
 "nbformat": 4,
 "nbformat_minor": 2,
 "cells": [
  {
   "cell_type": "code",
   "execution_count": 2,
   "metadata": {},
   "outputs": [],
   "source": [
    "import pandas as pandas\n",
    "import numpy as np\n",
    "import pickle"
   ]
  },
  {
   "cell_type": "code",
   "execution_count": 4,
   "metadata": {},
   "outputs": [],
   "source": [
    "from utilities import *"
   ]
  },
  {
   "cell_type": "code",
   "execution_count": 12,
   "metadata": {},
   "outputs": [],
   "source": [
    "payoffs = load_data('../output/processed/txt/bestruns100years_newcoalitions.txt', 'old')\n",
    "payoffs['flood_duration'] = payoffs['flood_duration']*-1\n",
    "normalized_payoffs = normalize_df(payoffs)"
   ]
  },
  {
   "cell_type": "code",
   "execution_count": null,
   "metadata": {},
   "outputs": [],
   "source": [
    "baseline = [39.30, 1.00, 0.1058, 0.00, ]\n",
    "hydropower "
   ]
  },
  {
   "cell_type": "code",
   "execution_count": 26,
   "metadata": {},
   "outputs": [
    {
     "output_type": "execute_result",
     "data": {
      "text/plain": [
       "            hydropower_revenue  atomic_power_plant_discharge  \\\n",
       "best_app             35.568728                      0.675800   \n",
       "best_ch              49.940381                      0.667644   \n",
       "best_comp            51.667794                      0.675110   \n",
       "best_dfl             41.194136                      0.028360   \n",
       "best_env             45.301392                      0.669933   \n",
       "best_hydro           50.092336                      0.675141   \n",
       "best_rec             47.013272                      0.675000   \n",
       "\n",
       "            baltimore_discharge  chester_discharge  recreation  environment  \\\n",
       "best_app               0.451259           0.602552    0.821429    -0.102221   \n",
       "best_ch                0.581969           0.579072    0.786786    -0.042577   \n",
       "best_comp              0.409704           0.582246    0.822143    -0.021685   \n",
       "best_dfl               0.013866           0.014254    0.000357    -0.000000   \n",
       "best_env               0.499956           0.603975    0.821429    -0.086643   \n",
       "best_hydro             0.054612           0.597697    0.893214    -0.041516   \n",
       "best_rec               0.577168           0.604782    0.750357    -0.080382   \n",
       "\n",
       "            flood_duration  \n",
       "best_app         -0.166667  \n",
       "best_ch          -0.166667  \n",
       "best_comp        -0.166667  \n",
       "best_dfl          0.000000  \n",
       "best_env         -0.166667  \n",
       "best_hydro       -0.166667  \n",
       "best_rec         -0.168333  "
      ],
      "text/html": "<div>\n<style scoped>\n    .dataframe tbody tr th:only-of-type {\n        vertical-align: middle;\n    }\n\n    .dataframe tbody tr th {\n        vertical-align: top;\n    }\n\n    .dataframe thead th {\n        text-align: right;\n    }\n</style>\n<table border=\"1\" class=\"dataframe\">\n  <thead>\n    <tr style=\"text-align: right;\">\n      <th></th>\n      <th>hydropower_revenue</th>\n      <th>atomic_power_plant_discharge</th>\n      <th>baltimore_discharge</th>\n      <th>chester_discharge</th>\n      <th>recreation</th>\n      <th>environment</th>\n      <th>flood_duration</th>\n    </tr>\n  </thead>\n  <tbody>\n    <tr>\n      <th>best_app</th>\n      <td>35.568728</td>\n      <td>0.675800</td>\n      <td>0.451259</td>\n      <td>0.602552</td>\n      <td>0.821429</td>\n      <td>-0.102221</td>\n      <td>-0.166667</td>\n    </tr>\n    <tr>\n      <th>best_ch</th>\n      <td>49.940381</td>\n      <td>0.667644</td>\n      <td>0.581969</td>\n      <td>0.579072</td>\n      <td>0.786786</td>\n      <td>-0.042577</td>\n      <td>-0.166667</td>\n    </tr>\n    <tr>\n      <th>best_comp</th>\n      <td>51.667794</td>\n      <td>0.675110</td>\n      <td>0.409704</td>\n      <td>0.582246</td>\n      <td>0.822143</td>\n      <td>-0.021685</td>\n      <td>-0.166667</td>\n    </tr>\n    <tr>\n      <th>best_dfl</th>\n      <td>41.194136</td>\n      <td>0.028360</td>\n      <td>0.013866</td>\n      <td>0.014254</td>\n      <td>0.000357</td>\n      <td>-0.000000</td>\n      <td>0.000000</td>\n    </tr>\n    <tr>\n      <th>best_env</th>\n      <td>45.301392</td>\n      <td>0.669933</td>\n      <td>0.499956</td>\n      <td>0.603975</td>\n      <td>0.821429</td>\n      <td>-0.086643</td>\n      <td>-0.166667</td>\n    </tr>\n    <tr>\n      <th>best_hydro</th>\n      <td>50.092336</td>\n      <td>0.675141</td>\n      <td>0.054612</td>\n      <td>0.597697</td>\n      <td>0.893214</td>\n      <td>-0.041516</td>\n      <td>-0.166667</td>\n    </tr>\n    <tr>\n      <th>best_rec</th>\n      <td>47.013272</td>\n      <td>0.675000</td>\n      <td>0.577168</td>\n      <td>0.604782</td>\n      <td>0.750357</td>\n      <td>-0.080382</td>\n      <td>-0.168333</td>\n    </tr>\n  </tbody>\n</table>\n</div>"
     },
     "metadata": {},
     "execution_count": 26
    }
   ],
   "source": [
    "payoffs"
   ]
  },
  {
   "cell_type": "code",
   "execution_count": 34,
   "metadata": {},
   "outputs": [],
   "source": [
    "payoffs = load_data('../output/processed/txt/bestruns100years_newcoalitions.txt', 'old')\n",
    "baseline = pd.DataFrame(['baseline', 0,0,0,0,0,-1,-1]).T\n",
    "baseline.columns = ['decision','hydropower_revenue', 'atomic_power_plant_discharge',\n",
    "       'baltimore_discharge', 'chester_discharge', 'recreation', 'environment',\n",
    "       'flood_duration']\n",
    "baseline = baseline.set_index('decision')\n",
    "payoffs = payoffs.append(baseline)\n",
    "normalized_payoffs = normalize_df(payoffs)"
   ]
  },
  {
   "cell_type": "code",
   "execution_count": 35,
   "metadata": {},
   "outputs": [
    {
     "output_type": "execute_result",
     "data": {
      "text/plain": [
       "     decision  hydropower_revenue  atomic_power_plant_discharge  \\\n",
       "0    best_app            0.688412                      1.000000   \n",
       "1     best_ch            0.966567                      0.987932   \n",
       "2   best_comp            1.000000                      0.998979   \n",
       "3    best_dfl            0.797288                      0.041965   \n",
       "4    best_env            0.876782                      0.991319   \n",
       "5  best_hydro            0.969508                      0.999025   \n",
       "6    best_rec            0.909914                      0.998816   \n",
       "7    baseline            0.000000                      0.000000   \n",
       "\n",
       "   baltimore_discharge  chester_discharge  recreation  environment  \\\n",
       "0             0.775400           0.996313    0.919632     0.897779   \n",
       "1             1.000000           0.957489    0.880848     0.957423   \n",
       "2             0.703996           0.962738    0.920432     0.978315   \n",
       "3             0.023827           0.023570    0.000400     1.000000   \n",
       "4             0.859077           0.998666    0.919632     0.913357   \n",
       "5             0.093840           0.988286    1.000000     0.958484   \n",
       "6             0.991751           1.000000    0.840064     0.919618   \n",
       "7             0.000000           0.000000    0.000000     0.000000   \n",
       "\n",
       "   flood_duration  \n",
       "0        0.998573  \n",
       "1        0.998573  \n",
       "2        0.998573  \n",
       "3        0.855920  \n",
       "4        0.998573  \n",
       "5        0.998573  \n",
       "6        1.000000  \n",
       "7        0.000000  "
      ],
      "text/html": "<div>\n<style scoped>\n    .dataframe tbody tr th:only-of-type {\n        vertical-align: middle;\n    }\n\n    .dataframe tbody tr th {\n        vertical-align: top;\n    }\n\n    .dataframe thead th {\n        text-align: right;\n    }\n</style>\n<table border=\"1\" class=\"dataframe\">\n  <thead>\n    <tr style=\"text-align: right;\">\n      <th></th>\n      <th>decision</th>\n      <th>hydropower_revenue</th>\n      <th>atomic_power_plant_discharge</th>\n      <th>baltimore_discharge</th>\n      <th>chester_discharge</th>\n      <th>recreation</th>\n      <th>environment</th>\n      <th>flood_duration</th>\n    </tr>\n  </thead>\n  <tbody>\n    <tr>\n      <th>0</th>\n      <td>best_app</td>\n      <td>0.688412</td>\n      <td>1.000000</td>\n      <td>0.775400</td>\n      <td>0.996313</td>\n      <td>0.919632</td>\n      <td>0.897779</td>\n      <td>0.998573</td>\n    </tr>\n    <tr>\n      <th>1</th>\n      <td>best_ch</td>\n      <td>0.966567</td>\n      <td>0.987932</td>\n      <td>1.000000</td>\n      <td>0.957489</td>\n      <td>0.880848</td>\n      <td>0.957423</td>\n      <td>0.998573</td>\n    </tr>\n    <tr>\n      <th>2</th>\n      <td>best_comp</td>\n      <td>1.000000</td>\n      <td>0.998979</td>\n      <td>0.703996</td>\n      <td>0.962738</td>\n      <td>0.920432</td>\n      <td>0.978315</td>\n      <td>0.998573</td>\n    </tr>\n    <tr>\n      <th>3</th>\n      <td>best_dfl</td>\n      <td>0.797288</td>\n      <td>0.041965</td>\n      <td>0.023827</td>\n      <td>0.023570</td>\n      <td>0.000400</td>\n      <td>1.000000</td>\n      <td>0.855920</td>\n    </tr>\n    <tr>\n      <th>4</th>\n      <td>best_env</td>\n      <td>0.876782</td>\n      <td>0.991319</td>\n      <td>0.859077</td>\n      <td>0.998666</td>\n      <td>0.919632</td>\n      <td>0.913357</td>\n      <td>0.998573</td>\n    </tr>\n    <tr>\n      <th>5</th>\n      <td>best_hydro</td>\n      <td>0.969508</td>\n      <td>0.999025</td>\n      <td>0.093840</td>\n      <td>0.988286</td>\n      <td>1.000000</td>\n      <td>0.958484</td>\n      <td>0.998573</td>\n    </tr>\n    <tr>\n      <th>6</th>\n      <td>best_rec</td>\n      <td>0.909914</td>\n      <td>0.998816</td>\n      <td>0.991751</td>\n      <td>1.000000</td>\n      <td>0.840064</td>\n      <td>0.919618</td>\n      <td>1.000000</td>\n    </tr>\n    <tr>\n      <th>7</th>\n      <td>baseline</td>\n      <td>0.000000</td>\n      <td>0.000000</td>\n      <td>0.000000</td>\n      <td>0.000000</td>\n      <td>0.000000</td>\n      <td>0.000000</td>\n      <td>0.000000</td>\n    </tr>\n  </tbody>\n</table>\n</div>"
     },
     "metadata": {},
     "execution_count": 35
    }
   ],
   "source": [
    "normalized_payoffs"
   ]
  },
  {
   "source": [
    "1. Check for Pareto Effeciency"
   ],
   "cell_type": "markdown",
   "metadata": {}
  },
  {
   "cell_type": "code",
   "execution_count": 46,
   "metadata": {},
   "outputs": [],
   "source": [
    "normalized_payoffs['nash_bargaining_solution'] = normalized_payoffs[['hydropower_revenue', 'atomic_power_plant_discharge',\n",
    "       'baltimore_discharge', 'chester_discharge', 'recreation', 'environment',\n",
    "       'flood_duration']].product(axis = 1)"
   ]
  },
  {
   "cell_type": "code",
   "execution_count": 51,
   "metadata": {},
   "outputs": [
    {
     "output_type": "execute_result",
     "data": {
      "text/plain": [
       "     decision  hydropower_revenue  atomic_power_plant_discharge  \\\n",
       "0    best_app            0.688412                      1.000000   \n",
       "1     best_ch            0.966567                      0.987932   \n",
       "2   best_comp            1.000000                      0.998979   \n",
       "3    best_dfl            0.797288                      0.041965   \n",
       "4    best_env            0.876782                      0.991319   \n",
       "5  best_hydro            0.969508                      0.999025   \n",
       "6    best_rec            0.909914                      0.998816   \n",
       "7    baseline            0.000000                      0.000000   \n",
       "\n",
       "   baltimore_discharge  chester_discharge  recreation  environment  \\\n",
       "0             0.775400           0.996313    0.919632     0.897779   \n",
       "1             1.000000           0.957489    0.880848     0.957423   \n",
       "2             0.703996           0.962738    0.920432     0.978315   \n",
       "3             0.023827           0.023570    0.000400     1.000000   \n",
       "4             0.859077           0.998666    0.919632     0.913357   \n",
       "5             0.093840           0.988286    1.000000     0.958484   \n",
       "6             0.991751           1.000000    0.840064     0.919618   \n",
       "7             0.000000           0.000000    0.000000     0.000000   \n",
       "\n",
       "   flood_duration  nash_bargaining_solution  \n",
       "0        0.998573              4.384635e-01  \n",
       "1        0.998573              7.699766e-01  \n",
       "2        0.998573              6.088144e-01  \n",
       "3        0.855920              6.430396e-09  \n",
       "4        0.998573              6.254490e-01  \n",
       "5        0.998573              8.597326e-02  \n",
       "6        1.000000              6.963192e-01  \n",
       "7        0.000000              0.000000e+00  "
      ],
      "text/html": "<div>\n<style scoped>\n    .dataframe tbody tr th:only-of-type {\n        vertical-align: middle;\n    }\n\n    .dataframe tbody tr th {\n        vertical-align: top;\n    }\n\n    .dataframe thead th {\n        text-align: right;\n    }\n</style>\n<table border=\"1\" class=\"dataframe\">\n  <thead>\n    <tr style=\"text-align: right;\">\n      <th></th>\n      <th>decision</th>\n      <th>hydropower_revenue</th>\n      <th>atomic_power_plant_discharge</th>\n      <th>baltimore_discharge</th>\n      <th>chester_discharge</th>\n      <th>recreation</th>\n      <th>environment</th>\n      <th>flood_duration</th>\n      <th>nash_bargaining_solution</th>\n    </tr>\n  </thead>\n  <tbody>\n    <tr>\n      <th>0</th>\n      <td>best_app</td>\n      <td>0.688412</td>\n      <td>1.000000</td>\n      <td>0.775400</td>\n      <td>0.996313</td>\n      <td>0.919632</td>\n      <td>0.897779</td>\n      <td>0.998573</td>\n      <td>4.384635e-01</td>\n    </tr>\n    <tr>\n      <th>1</th>\n      <td>best_ch</td>\n      <td>0.966567</td>\n      <td>0.987932</td>\n      <td>1.000000</td>\n      <td>0.957489</td>\n      <td>0.880848</td>\n      <td>0.957423</td>\n      <td>0.998573</td>\n      <td>7.699766e-01</td>\n    </tr>\n    <tr>\n      <th>2</th>\n      <td>best_comp</td>\n      <td>1.000000</td>\n      <td>0.998979</td>\n      <td>0.703996</td>\n      <td>0.962738</td>\n      <td>0.920432</td>\n      <td>0.978315</td>\n      <td>0.998573</td>\n      <td>6.088144e-01</td>\n    </tr>\n    <tr>\n      <th>3</th>\n      <td>best_dfl</td>\n      <td>0.797288</td>\n      <td>0.041965</td>\n      <td>0.023827</td>\n      <td>0.023570</td>\n      <td>0.000400</td>\n      <td>1.000000</td>\n      <td>0.855920</td>\n      <td>6.430396e-09</td>\n    </tr>\n    <tr>\n      <th>4</th>\n      <td>best_env</td>\n      <td>0.876782</td>\n      <td>0.991319</td>\n      <td>0.859077</td>\n      <td>0.998666</td>\n      <td>0.919632</td>\n      <td>0.913357</td>\n      <td>0.998573</td>\n      <td>6.254490e-01</td>\n    </tr>\n    <tr>\n      <th>5</th>\n      <td>best_hydro</td>\n      <td>0.969508</td>\n      <td>0.999025</td>\n      <td>0.093840</td>\n      <td>0.988286</td>\n      <td>1.000000</td>\n      <td>0.958484</td>\n      <td>0.998573</td>\n      <td>8.597326e-02</td>\n    </tr>\n    <tr>\n      <th>6</th>\n      <td>best_rec</td>\n      <td>0.909914</td>\n      <td>0.998816</td>\n      <td>0.991751</td>\n      <td>1.000000</td>\n      <td>0.840064</td>\n      <td>0.919618</td>\n      <td>1.000000</td>\n      <td>6.963192e-01</td>\n    </tr>\n    <tr>\n      <th>7</th>\n      <td>baseline</td>\n      <td>0.000000</td>\n      <td>0.000000</td>\n      <td>0.000000</td>\n      <td>0.000000</td>\n      <td>0.000000</td>\n      <td>0.000000</td>\n      <td>0.000000</td>\n      <td>0.000000e+00</td>\n    </tr>\n  </tbody>\n</table>\n</div>"
     },
     "metadata": {},
     "execution_count": 51
    }
   ],
   "source": [
    "normalized_payoffs"
   ]
  },
  {
   "cell_type": "code",
   "execution_count": 50,
   "metadata": {},
   "outputs": [
    {
     "output_type": "execute_result",
     "data": {
      "text/plain": [
       "  decision  hydropower_revenue  atomic_power_plant_discharge  \\\n",
       "1  best_ch            0.966567                      0.987932   \n",
       "\n",
       "   baltimore_discharge  chester_discharge  recreation  environment  \\\n",
       "1                  1.0           0.957489    0.880848     0.957423   \n",
       "\n",
       "   flood_duration  nash_bargaining_solution  \n",
       "1        0.998573                  0.769977  "
      ],
      "text/html": "<div>\n<style scoped>\n    .dataframe tbody tr th:only-of-type {\n        vertical-align: middle;\n    }\n\n    .dataframe tbody tr th {\n        vertical-align: top;\n    }\n\n    .dataframe thead th {\n        text-align: right;\n    }\n</style>\n<table border=\"1\" class=\"dataframe\">\n  <thead>\n    <tr style=\"text-align: right;\">\n      <th></th>\n      <th>decision</th>\n      <th>hydropower_revenue</th>\n      <th>atomic_power_plant_discharge</th>\n      <th>baltimore_discharge</th>\n      <th>chester_discharge</th>\n      <th>recreation</th>\n      <th>environment</th>\n      <th>flood_duration</th>\n      <th>nash_bargaining_solution</th>\n    </tr>\n  </thead>\n  <tbody>\n    <tr>\n      <th>1</th>\n      <td>best_ch</td>\n      <td>0.966567</td>\n      <td>0.987932</td>\n      <td>1.0</td>\n      <td>0.957489</td>\n      <td>0.880848</td>\n      <td>0.957423</td>\n      <td>0.998573</td>\n      <td>0.769977</td>\n    </tr>\n  </tbody>\n</table>\n</div>"
     },
     "metadata": {},
     "execution_count": 50
    }
   ],
   "source": [
    "normalized_payoffs[normalized_payoffs['nash_bargaining_solution']==max(normalized_payoffs['nash_bargaining_solution'])]"
   ]
  }
 ]
}