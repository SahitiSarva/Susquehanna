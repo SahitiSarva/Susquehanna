{
 "metadata": {
  "language_info": {
   "codemirror_mode": {
    "name": "ipython",
    "version": 3
   },
   "file_extension": ".py",
   "mimetype": "text/x-python",
   "name": "python",
   "nbconvert_exporter": "python",
   "pygments_lexer": "ipython3",
   "version": "3.8.5"
  },
  "orig_nbformat": 2,
  "kernelspec": {
   "name": "python385jvsc74a57bd0c377a3a05ba1d31fd00218651f72b0a27b3c45e2b83cef10397a5da0ee866dc9",
   "display_name": "Python 3.8.5 64-bit ('base': conda)"
  }
 },
 "nbformat": 4,
 "nbformat_minor": 2,
 "cells": [
  {
   "cell_type": "code",
   "execution_count": 454,
   "metadata": {},
   "outputs": [],
   "source": [
    "%reload_ext autoreload\n",
    "%autoreload 2\n",
    "import data_01_conflictModel as model\n",
    "import data_02_conflictSolvers as solvers\n",
    "#import data_04_spSolvers as solvers\n",
    "import data_03_gmcrUtilities as gmcrUtils\n",
    "import gmcr\n",
    "import numpy as np\n",
    "from utilities import *"
   ]
  },
  {
   "cell_type": "code",
   "execution_count": 455,
   "metadata": {},
   "outputs": [],
   "source": [
    "myConflict = gmcr.model.ConflictModel()"
   ]
  },
  {
   "cell_type": "code",
   "execution_count": 456,
   "metadata": {},
   "outputs": [],
   "source": [
    "payoffs = load_data(\"../model/data/processed/50yr_samples.pickle\")"
   ]
  },
  {
   "cell_type": "code",
   "execution_count": 457,
   "metadata": {},
   "outputs": [],
   "source": [
    "baseline = {'hydropower_revenue':39.30, 'atomic_power_plant_discharge':0.633,\n",
    "       'baltimore_discharge':1.00, 'chester_discharge':1.00, 'recreation':0.00, 'environment':0.1058,\n",
    "       'flood_duration':1.633}"
   ]
  },
  {
   "cell_type": "code",
   "execution_count": 458,
   "metadata": {},
   "outputs": [
    {
     "output_type": "execute_result",
     "data": {
      "text/plain": [
       "            hydropower_revenue  atomic_power_plant_discharge  \\\n",
       "best_app             33.428360                      0.675815   \n",
       "best_ch              44.640454                      0.667632   \n",
       "best_comp            47.521088                      0.675057   \n",
       "best_dfl             36.452284                      0.025641   \n",
       "best_env             41.245030                      0.669965   \n",
       "best_hydro           47.752741                      0.675139   \n",
       "best_rec             42.795952                      0.675009   \n",
       "\n",
       "            baltimore_discharge  chester_discharge  recreation  environment  \\\n",
       "best_app               0.450959           0.602542    0.750714    -0.116995   \n",
       "best_ch                0.581992           0.578373    0.768214    -0.045616   \n",
       "best_comp              0.408810           0.581773    0.839643    -0.032985   \n",
       "best_dfl               0.277056           0.012075   -0.000000    -0.000000   \n",
       "best_env               0.499875           0.603974    0.768214    -0.086025   \n",
       "best_hydro             0.053342           0.596784    0.821429    -0.048001   \n",
       "best_rec               0.577004           0.604840    0.750714    -0.083129   \n",
       "\n",
       "            flood_duration  \n",
       "best_app         -1.666667  \n",
       "best_ch          -1.000000  \n",
       "best_comp        -0.833333  \n",
       "best_dfl         -0.000000  \n",
       "best_env         -1.666667  \n",
       "best_hydro       -0.833333  \n",
       "best_rec         -1.241667  "
      ],
      "text/html": "<div>\n<style scoped>\n    .dataframe tbody tr th:only-of-type {\n        vertical-align: middle;\n    }\n\n    .dataframe tbody tr th {\n        vertical-align: top;\n    }\n\n    .dataframe thead th {\n        text-align: right;\n    }\n</style>\n<table border=\"1\" class=\"dataframe\">\n  <thead>\n    <tr style=\"text-align: right;\">\n      <th></th>\n      <th>hydropower_revenue</th>\n      <th>atomic_power_plant_discharge</th>\n      <th>baltimore_discharge</th>\n      <th>chester_discharge</th>\n      <th>recreation</th>\n      <th>environment</th>\n      <th>flood_duration</th>\n    </tr>\n  </thead>\n  <tbody>\n    <tr>\n      <th>best_app</th>\n      <td>33.428360</td>\n      <td>0.675815</td>\n      <td>0.450959</td>\n      <td>0.602542</td>\n      <td>0.750714</td>\n      <td>-0.116995</td>\n      <td>-1.666667</td>\n    </tr>\n    <tr>\n      <th>best_ch</th>\n      <td>44.640454</td>\n      <td>0.667632</td>\n      <td>0.581992</td>\n      <td>0.578373</td>\n      <td>0.768214</td>\n      <td>-0.045616</td>\n      <td>-1.000000</td>\n    </tr>\n    <tr>\n      <th>best_comp</th>\n      <td>47.521088</td>\n      <td>0.675057</td>\n      <td>0.408810</td>\n      <td>0.581773</td>\n      <td>0.839643</td>\n      <td>-0.032985</td>\n      <td>-0.833333</td>\n    </tr>\n    <tr>\n      <th>best_dfl</th>\n      <td>36.452284</td>\n      <td>0.025641</td>\n      <td>0.277056</td>\n      <td>0.012075</td>\n      <td>-0.000000</td>\n      <td>-0.000000</td>\n      <td>-0.000000</td>\n    </tr>\n    <tr>\n      <th>best_env</th>\n      <td>41.245030</td>\n      <td>0.669965</td>\n      <td>0.499875</td>\n      <td>0.603974</td>\n      <td>0.768214</td>\n      <td>-0.086025</td>\n      <td>-1.666667</td>\n    </tr>\n    <tr>\n      <th>best_hydro</th>\n      <td>47.752741</td>\n      <td>0.675139</td>\n      <td>0.053342</td>\n      <td>0.596784</td>\n      <td>0.821429</td>\n      <td>-0.048001</td>\n      <td>-0.833333</td>\n    </tr>\n    <tr>\n      <th>best_rec</th>\n      <td>42.795952</td>\n      <td>0.675009</td>\n      <td>0.577004</td>\n      <td>0.604840</td>\n      <td>0.750714</td>\n      <td>-0.083129</td>\n      <td>-1.241667</td>\n    </tr>\n  </tbody>\n</table>\n</div>"
     },
     "metadata": {},
     "execution_count": 458
    }
   ],
   "source": [
    "payoffs"
   ]
  },
  {
   "cell_type": "code",
   "execution_count": 459,
   "metadata": {},
   "outputs": [],
   "source": [
    "payoffs = payoffs[payoffs.index.isin(['best_app', 'best_ch', 'best_comp'])]"
   ]
  },
  {
   "cell_type": "code",
   "execution_count": 460,
   "metadata": {},
   "outputs": [],
   "source": [
    "payoffs = payoffs.append(baseline, ignore_index = True)"
   ]
  },
  {
   "cell_type": "code",
   "execution_count": 431,
   "metadata": {},
   "outputs": [],
   "source": [
    "#payoffs = payoffs[['atomic_power_plant_discharge', 'hydropower_revenue']]"
   ]
  },
  {
   "cell_type": "code",
   "execution_count": 461,
   "metadata": {},
   "outputs": [],
   "source": [
    "ranks = payoffs.rank(ascending = False)"
   ]
  },
  {
   "cell_type": "code",
   "execution_count": 462,
   "metadata": {},
   "outputs": [
    {
     "output_type": "stream",
     "name": "stdout",
     "text": [
      "['hydropower_revenue', 'atomic_power_plant_discharge', 'baltimore_discharge', 'chester_discharge', 'recreation', 'environment', 'flood_duration']\n"
     ]
    }
   ],
   "source": [
    "hydropower_revenue = gmcr.model.DecisionMaker(myConflict, \"hydropower_revenue\")\n",
    "myConflict.decisionMakers.append(hydropower_revenue)\n",
    "atomic_power_plant_discharge = gmcr.model.DecisionMaker(myConflict, \"atomic_power_plant_discharge\")\n",
    "myConflict.decisionMakers.append(atomic_power_plant_discharge)\n",
    "baltimore_discharge = gmcr.model.DecisionMaker(myConflict, \"baltimore_discharge\")\n",
    "myConflict.decisionMakers.append(baltimore_discharge)\n",
    "chester_discharge = gmcr.model.DecisionMaker(myConflict, \"chester_discharge\")\n",
    "myConflict.decisionMakers.append(chester_discharge)\n",
    "recreation = gmcr.model.DecisionMaker(myConflict, \"recreation\")\n",
    "myConflict.decisionMakers.append(recreation)\n",
    "environment = gmcr.model.DecisionMaker(myConflict, \"environment\")\n",
    "myConflict.decisionMakers.append(environment)\n",
    "flood_duration = gmcr.model.DecisionMaker(myConflict, \"flood_duration\")\n",
    "myConflict.decisionMakers.append(flood_duration)\n",
    "print(myConflict.decisionMakers)"
   ]
  },
  {
   "cell_type": "code",
   "execution_count": 463,
   "metadata": {},
   "outputs": [],
   "source": [
    "myConflict.useManualPreferenceRanking = True"
   ]
  },
  {
   "cell_type": "code",
   "execution_count": 464,
   "metadata": {},
   "outputs": [],
   "source": [
    "nr_decisions = payoffs.shape[0]-1\n",
    "nr_players = payoffs.shape[1]\n",
    "for i in range(0, nr_players):\n",
    "    for j in range(0,nr_decisions):\n",
    "        myConflict.decisionMakers[i].addOption(str(j))"
   ]
  },
  {
   "cell_type": "code",
   "execution_count": 465,
   "metadata": {},
   "outputs": [
    {
     "output_type": "stream",
     "name": "stdout",
     "text": [
      "7 players\n3 decisions\nWall time: 124 ms\n"
     ]
    }
   ],
   "source": [
    "%%time\n",
    "myConflict.recalculateFeasibleStates()"
   ]
  },
  {
   "cell_type": "code",
   "execution_count": 466,
   "metadata": {},
   "outputs": [],
   "source": [
    "temp = [(x,y) for x,y in zip([feas for feas in myConflict.feasibles.name], [feas for feas in myConflict.feasibles])]"
   ]
  },
  {
   "cell_type": "code",
   "execution_count": 467,
   "metadata": {},
   "outputs": [],
   "source": [
    "dict = {}\n",
    "for i in set([feas for feas in myConflict.feasibles.name]):\n",
    "    dict[i] = []\n",
    "for i in temp:\n",
    "    dict[i[0]].append(i[1])"
   ]
  },
  {
   "cell_type": "code",
   "execution_count": 468,
   "metadata": {},
   "outputs": [],
   "source": [
    "ranks = payoffs.rank(ascending = False)\n",
    "ranks = ranks.reset_index()\n",
    "ranks['index']= ranks['index'].replace(nr_decisions, 'baseline')"
   ]
  },
  {
   "cell_type": "code",
   "execution_count": 469,
   "metadata": {},
   "outputs": [],
   "source": [
    "actors = [dm.name for dm in myConflict.decisionMakers]"
   ]
  },
  {
   "cell_type": "code",
   "execution_count": 442,
   "metadata": {},
   "outputs": [
    {
     "output_type": "execute_result",
     "data": {
      "text/plain": [
       "      index  atomic_power_plant_discharge  hydropower_revenue\n",
       "0         0                           1.0                 3.0\n",
       "1         1                           2.0                 1.0\n",
       "2  baseline                           3.0                 2.0"
      ],
      "text/html": "<div>\n<style scoped>\n    .dataframe tbody tr th:only-of-type {\n        vertical-align: middle;\n    }\n\n    .dataframe tbody tr th {\n        vertical-align: top;\n    }\n\n    .dataframe thead th {\n        text-align: right;\n    }\n</style>\n<table border=\"1\" class=\"dataframe\">\n  <thead>\n    <tr style=\"text-align: right;\">\n      <th></th>\n      <th>index</th>\n      <th>atomic_power_plant_discharge</th>\n      <th>hydropower_revenue</th>\n    </tr>\n  </thead>\n  <tbody>\n    <tr>\n      <th>0</th>\n      <td>0</td>\n      <td>1.0</td>\n      <td>3.0</td>\n    </tr>\n    <tr>\n      <th>1</th>\n      <td>1</td>\n      <td>2.0</td>\n      <td>1.0</td>\n    </tr>\n    <tr>\n      <th>2</th>\n      <td>baseline</td>\n      <td>3.0</td>\n      <td>2.0</td>\n    </tr>\n  </tbody>\n</table>\n</div>"
     },
     "metadata": {},
     "execution_count": 442
    }
   ],
   "source": [
    "ranks"
   ]
  },
  {
   "cell_type": "code",
   "execution_count": 470,
   "metadata": {},
   "outputs": [],
   "source": [
    "for i in range((nr_players)):\n",
    "    #rank_order = (np.array(list(ranks.iloc[:,i]))-1).astype(int)\n",
    "    #rank_order = np.where(rank_order == np.max(rank_order), 'baseline', rank_order)\n",
    "    rank_order = list(ranks.sort_values(by = actors[i])['index'])\n",
    "    #print(rank_order)\n",
    "    index_map = {v:j for j, v in enumerate(rank_order)}\n",
    "    sorted_list = sorted(dict.items(), key=lambda x: index_map[x[0]])\n",
    "    myConflict.decisionMakers[i].preferenceRanking = list(list(zip(*sorted_list))[1])"
   ]
  },
  {
   "cell_type": "code",
   "execution_count": 471,
   "metadata": {},
   "outputs": [],
   "source": [
    "for i in range((nr_players)):\n",
    "     myConflict.decisionMakers[i].calculatePreferences()"
   ]
  },
  {
   "cell_type": "code",
   "execution_count": 445,
   "metadata": {},
   "outputs": [
    {
     "output_type": "execute_result",
     "data": {
      "text/plain": [
       "[0, 'baseline', 'baseline', 1]"
      ]
     },
     "metadata": {},
     "execution_count": 445
    }
   ],
   "source": [
    "myConflict.feasibles.name"
   ]
  },
  {
   "cell_type": "code",
   "execution_count": 447,
   "metadata": {},
   "outputs": [
    {
     "output_type": "execute_result",
     "data": {
      "text/plain": [
       "[[3], [1, 2], [0]]"
      ]
     },
     "metadata": {},
     "execution_count": 447
    }
   ],
   "source": [
    "hydropower_revenue.preferenceRanking"
   ]
  },
  {
   "cell_type": "code",
   "execution_count": 472,
   "metadata": {},
   "outputs": [
    {
     "output_type": "stream",
     "name": "stdout",
     "text": [
      "Wall time: 7min 3s\n"
     ]
    }
   ],
   "source": [
    "%%time\n",
    "lSolver = gmcr.solvers.LogicalSolver(myConflict)"
   ]
  },
  {
   "cell_type": "code",
   "execution_count": 473,
   "metadata": {},
   "outputs": [
    {
     "output_type": "stream",
     "name": "stdout",
     "text": [
      "Wall time: 11.4 s\n"
     ]
    }
   ],
   "source": [
    "%%time\n",
    "all = lSolver.findEquilibria()"
   ]
  },
  {
   "cell_type": "code",
   "execution_count": 474,
   "metadata": {},
   "outputs": [],
   "source": [
    "decisions = np.array(myConflict.feasibles.name)"
   ]
  },
  {
   "cell_type": "code",
   "execution_count": 475,
   "metadata": {},
   "outputs": [
    {
     "output_type": "execute_result",
     "data": {
      "text/plain": [
       "{'baseline'}"
      ]
     },
     "metadata": {},
     "execution_count": 475
    }
   ],
   "source": [
    "set(decisions[lSolver.gmrEquilibria])"
   ]
  },
  {
   "cell_type": "code",
   "execution_count": 476,
   "metadata": {},
   "outputs": [
    {
     "output_type": "execute_result",
     "data": {
      "text/plain": [
       "   hydropower_revenue  atomic_power_plant_discharge  baltimore_discharge  \\\n",
       "0           33.428360                      0.675815             0.450959   \n",
       "1           44.640454                      0.667632             0.581992   \n",
       "2           47.521088                      0.675057             0.408810   \n",
       "3           39.300000                      0.633000             1.000000   \n",
       "\n",
       "   chester_discharge  recreation  environment  flood_duration  \n",
       "0           0.602542    0.750714    -0.116995       -1.666667  \n",
       "1           0.578373    0.768214    -0.045616       -1.000000  \n",
       "2           0.581773    0.839643    -0.032985       -0.833333  \n",
       "3           1.000000    0.000000     0.105800        1.633000  "
      ],
      "text/html": "<div>\n<style scoped>\n    .dataframe tbody tr th:only-of-type {\n        vertical-align: middle;\n    }\n\n    .dataframe tbody tr th {\n        vertical-align: top;\n    }\n\n    .dataframe thead th {\n        text-align: right;\n    }\n</style>\n<table border=\"1\" class=\"dataframe\">\n  <thead>\n    <tr style=\"text-align: right;\">\n      <th></th>\n      <th>hydropower_revenue</th>\n      <th>atomic_power_plant_discharge</th>\n      <th>baltimore_discharge</th>\n      <th>chester_discharge</th>\n      <th>recreation</th>\n      <th>environment</th>\n      <th>flood_duration</th>\n    </tr>\n  </thead>\n  <tbody>\n    <tr>\n      <th>0</th>\n      <td>33.428360</td>\n      <td>0.675815</td>\n      <td>0.450959</td>\n      <td>0.602542</td>\n      <td>0.750714</td>\n      <td>-0.116995</td>\n      <td>-1.666667</td>\n    </tr>\n    <tr>\n      <th>1</th>\n      <td>44.640454</td>\n      <td>0.667632</td>\n      <td>0.581992</td>\n      <td>0.578373</td>\n      <td>0.768214</td>\n      <td>-0.045616</td>\n      <td>-1.000000</td>\n    </tr>\n    <tr>\n      <th>2</th>\n      <td>47.521088</td>\n      <td>0.675057</td>\n      <td>0.408810</td>\n      <td>0.581773</td>\n      <td>0.839643</td>\n      <td>-0.032985</td>\n      <td>-0.833333</td>\n    </tr>\n    <tr>\n      <th>3</th>\n      <td>39.300000</td>\n      <td>0.633000</td>\n      <td>1.000000</td>\n      <td>1.000000</td>\n      <td>0.000000</td>\n      <td>0.105800</td>\n      <td>1.633000</td>\n    </tr>\n  </tbody>\n</table>\n</div>"
     },
     "metadata": {},
     "execution_count": 476
    }
   ],
   "source": [
    "payoffs"
   ]
  },
  {
   "cell_type": "code",
   "execution_count": 477,
   "metadata": {},
   "outputs": [
    {
     "output_type": "stream",
     "name": "stdout",
     "text": [
      "Nash Equilibrium: {'baseline'} GMR Equilirbium: {'baseline'} SEQ Equilibrium: {'baseline'} SIM Equilibrium: {'baseline'} SEQ SIM Equilibrium: {'baseline'} SMR Equilirbium: {'baseline'}\n"
     ]
    }
   ],
   "source": [
    "print(f'Nash Equilibrium: {set(decisions[lSolver.nashEquilibria])}',\n",
    "f'GMR Equilirbium: {set(decisions[lSolver.gmrEquilibria])}',\n",
    "f'SEQ Equilibrium: {set(decisions[lSolver.seqEquilibria])}',\n",
    "f'SIM Equilibrium: {set(decisions[lSolver.simEquilibria])}',\n",
    "f'SEQ SIM Equilibrium: {set(decisions[lSolver.seqSimEquilibria])}',\n",
    "f'SMR Equilirbium: {set(decisions[lSolver.smrEquilibria])}')"
   ]
  }
 ]
}