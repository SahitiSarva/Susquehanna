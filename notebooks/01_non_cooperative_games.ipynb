{
 "metadata": {
  "language_info": {
   "codemirror_mode": {
    "name": "ipython",
    "version": 3
   },
   "file_extension": ".py",
   "mimetype": "text/x-python",
   "name": "python",
   "nbconvert_exporter": "python",
   "pygments_lexer": "ipython3",
   "version": "3.8.5"
  },
  "orig_nbformat": 2,
  "kernelspec": {
   "name": "python3",
   "display_name": "Python 3.8.5 64-bit ('base': conda)"
  },
  "interpreter": {
   "hash": "c377a3a05ba1d31fd00218651f72b0a27b3c45e2b83cef10397a5da0ee866dc9"
  }
 },
 "nbformat": 4,
 "nbformat_minor": 2,
 "cells": [
  {
   "cell_type": "code",
   "execution_count": 8,
   "source": [
    "%reload_ext autoreload\r\n",
    "%autoreload 2\r\n",
    "from utilities import *\r\n",
    "import itertools"
   ],
   "outputs": [],
   "metadata": {}
  },
  {
   "cell_type": "markdown",
   "source": [
    "# Non cooperative stability\r\n",
    "\r\n",
    "- Step 0: Load data\r\n",
    "- Step 1: Identify which baseline policy one wants to use\r\n",
    "- Step 2: Create a game, add actors of interest and their available moves\r\n",
    "- Step 3: Identify preference ranking between all the policies for all the actors\r\n",
    "- Step 4: Solve the game to find the equilibrium conditions\r\n",
    "- Step 5: Store the records"
   ],
   "metadata": {}
  },
  {
   "cell_type": "code",
   "execution_count": 102,
   "source": [
    "utility = 'linear'\r\n",
    "utility_function = normalize\r\n",
    "\r\n",
    "fair_payoffs = pd.read_csv(f'../output/processed/fair_payoffs_{utility}.csv')\r\n",
    "fair_payoffs = fair_payoffs.drop(columns = ['Unnamed: 0'], errors='ignore').set_index('decision')\r\n",
    "fair_payoffs.index.name = 'decisions'\r\n",
    "\r\n",
    "payoffs = load_data(\"../model/data/processed/50yr_all2.pickle\") \r\n",
    "\r\n",
    "fair_payoffs = fair_payoffs.append(payoffs.loc['policy85'])\r\n",
    "fair_payoffs = fair_payoffs.rename(index = {'policy85':'fallback'})\r\n",
    "#payoffs = fair_payoffs"
   ],
   "outputs": [],
   "metadata": {}
  },
  {
   "cell_type": "code",
   "execution_count": 103,
   "source": [
    " baselines = {'utilitarian':fair_payoffs.loc['utilitarian'].to_dict(),\r\n",
    "  'Status Quo':{'hydropower_revenue':39.30, 'atomic_power_plant_discharge':0.633,\r\n",
    "    'baltimore_discharge':1.00, 'chester_discharge':1.00, 'recreation':0.001, 'environment':-0.1058,\r\n",
    "    'flood_risk':-0.0001} ,\r\n",
    "    #     'Zero Baseline': {'hydropower_revenue':0.000000001, 'atomic_power_plant_discharge':0.000000001,\r\n",
    "    # 'baltimore_discharge':0.000000001, 'chester_discharge':0.000000001, 'recreation':0.000000001, 'environment':-1,\r\n",
    "    # 'flood_risk':-5}\r\n",
    "     'egalitarian':fair_payoffs.loc['egalitarian'].to_dict(),'fallback': fair_payoffs.loc['fallback'].to_dict()\r\n",
    "      #  'prioritarian': fair_payoffs.loc['prioritarian'] \r\n",
    "      }"
   ],
   "outputs": [],
   "metadata": {}
  },
  {
   "cell_type": "code",
   "execution_count": 104,
   "source": [
    "# pick out the actors of interest\r\n",
    "actors_all = ['hydropower_revenue', 'atomic_power_plant_discharge',\r\n",
    "       'baltimore_discharge', 'chester_discharge', 'environment',\r\n",
    "       'flood_risk', 'recreation']"
   ],
   "outputs": [],
   "metadata": {}
  },
  {
   "cell_type": "markdown",
   "source": [
    "## 7 player game"
   ],
   "metadata": {}
  },
  {
   "cell_type": "code",
   "execution_count": 105,
   "source": [
    "actors_rounds = [list(actors) for actors in itertools.combinations(actors_all,7)]\r\n",
    "\r\n",
    "stability_analysis_7player_round1 = {}\r\n",
    "stability_analysis_7player_round2 = {}\r\n",
    "stability_analysis_7player_round3 = {}\r\n",
    "stability_analysis_7player_round4 = {} \r\n",
    "\r\n",
    "for actors in (actors_rounds):\r\n",
    "    print(actors)\r\n",
    "        \r\n",
    "    # get stable policies by looking at all the policies and running them 2 decisions at a time\r\n",
    "    decisions = [list(payoffs.index)[i:i+2] for i in range(0, len(list(payoffs.index)), 2)]\r\n",
    "\r\n",
    "    stability_analysis_7player_round1, stability_round1, stable_decisions_round1 = get_stable_policies(stability_analysis_7player_round1, baselines, decisions,payoffs, actors )\r\n",
    "\r\n",
    " #   use the stable policies identified in the previous step to check if they are stable when compared against other stable policies\r\n",
    "    decisions = get_formatted_decisions(stable_decisions_round1)\r\n",
    "\r\n",
    "    stability_analysis_7player_round2, stability_round2, stable_decisions_round2 = get_stable_policies(stability_analysis_7player_round2, baselines, decisions,payoffs, actors)\r\n",
    "\r\n",
    "    with open(f'../output/processed/stability_analysis_7player_round2_fair_{utility}', \"wb\") as f:\r\n",
    "        pickle.dump(stability_analysis_7player_round4, f) \r\n",
    "\r\n",
    "    decisions = get_formatted_decisions(stable_decisions_round2)\r\n",
    "\r\n",
    "    stability_analysis_7player_round3, stability_round3, stable_decisions_round3 = get_stable_policies(stability_analysis_7player_round3, baselines, decisions,payoffs, actors)\r\n",
    "\r\n",
    "    with open(f'../output/processed/stability_analysis_7player_round3_fair_{utility}', \"wb\") as f:\r\n",
    "        pickle.dump(stability_analysis_7player_round4, f) \r\n",
    "\r\n",
    "# these are the fallback bargaining, egalitarian and utilitarian policies respectively\r\n",
    "    #stable_decisions = [decision for decision in stable_decisions_round3 if decision not in ['policy85', 'policy87']]\r\n",
    "    decisions = get_formatted_decisions(stable_decisions_round3)\r\n",
    "\r\n",
    "    if len(decisions)>0:\r\n",
    "        if len(decisions) == 1 and decisions[0][0] != 'policy85':\r\n",
    "            decisions[0].append('policy85')\r\n",
    "        elif len(decisions) == 1 and decisions[0][0] == 'policy85':\r\n",
    "            decisions[0].append('policy87')\r\n",
    "        stability_analysis_7player_round4, stability_round4, stable_decisions_round4 = get_stable_policies(stability_analysis_7player_round4, baselines, decisions,payoffs, actors)\r\n",
    "\r\n",
    "    with open(f'../output/processed/stability_analysis_7player_round4_fair_{utility}', \"wb\") as f:\r\n",
    "        pickle.dump(stability_analysis_7player_round4, f) \r\n"
   ],
   "outputs": [
    {
     "output_type": "stream",
     "name": "stdout",
     "text": [
      "['hydropower_revenue', 'atomic_power_plant_discharge', 'baltimore_discharge', 'chester_discharge', 'environment', 'flood_risk', 'recreation']\n"
     ]
    }
   ],
   "metadata": {}
  },
  {
   "cell_type": "code",
   "execution_count": 98,
   "source": [
    "#stability_analysis_7player_round1"
   ],
   "outputs": [],
   "metadata": {}
  },
  {
   "cell_type": "markdown",
   "source": [
    "## 6 player game"
   ],
   "metadata": {}
  },
  {
   "cell_type": "code",
   "execution_count": 165,
   "source": [
    "import tqdm\r\n",
    "actors_rounds = [list(actors) for actors in itertools.combinations(actors_all,6)]\r\n",
    "\r\n",
    "stability_analysis_6player_round1 = {}\r\n",
    "stability_analysis_6player_round2 = {}\r\n",
    "stability_analysis_6player_round3 = {}\r\n",
    "stability_analysis_6player_round4 = {} \r\n",
    "\r\n",
    "for actors in (actors_rounds):\r\n",
    "    print(actors)\r\n",
    "        \r\n",
    "    # get stable policies by looking at all the policies and running them 2 decisions at a time\r\n",
    "    decisions = [list(payoffs.index)[i:i+2] for i in range(0, len(list(payoffs.index)), 2)]\r\n",
    "\r\n",
    "    stability_analysis_6player_round1, stability_round1, stable_decisions_round1 = get_stable_policies(stability_analysis_6player_round1, baselines, decisions,payoffs, actors )\r\n",
    "\r\n",
    "    # use the stable policies identified in the previous step to check if they are stable when compared against other stable policies\r\n",
    "    decisions = get_formatted_decisions(stable_decisions_round1)\r\n",
    "\r\n",
    "    stability_analysis_6player_round2, stability_round2, stable_decisions_round2 = get_stable_policies(stability_analysis_6player_round2, baselines, decisions,payoffs, actors)\r\n",
    "\r\n",
    "    decisions = get_formatted_decisions(stable_decisions_round2)\r\n",
    "\r\n",
    "    stability_analysis_6player_round3, stability_round3, stable_decisions_round3 = get_stable_policies(stability_analysis_6player_round3, baselines, decisions,payoffs, actors)\r\n",
    "\r\n",
    "# these are the fallback bargaining, egalitarian and utilitarian policies respectively\r\n",
    "    #stable_decisions = [decision for decision in stable_decisions_round3 if decision not in ['policy85', 'policy98', 'policy7']]\r\n",
    "    decisions = get_formatted_decisions(stable_decisions_round3)\r\n",
    "\r\n",
    "    stability_analysis_6player_round4, stability_round4, stable_decisions_round4 = get_stable_policies(stability_analysis_6player_round4, baselines, decisions,payoffs, actors)\r\n",
    "\r\n",
    "    with open(f'../output/processed/stability_analysis_6player_round4_{utility}', \"wb\") as f:\r\n",
    "        pickle.dump(stability_analysis_6player_round4, f) \r\n"
   ],
   "outputs": [
    {
     "output_type": "stream",
     "name": "stdout",
     "text": [
      "['hydropower_revenue', 'atomic_power_plant_discharge', 'baltimore_discharge', 'chester_discharge', 'environment', 'flood_risk']\n",
      "['hydropower_revenue', 'atomic_power_plant_discharge', 'baltimore_discharge', 'chester_discharge', 'environment', 'recreation']\n",
      "['hydropower_revenue', 'atomic_power_plant_discharge', 'baltimore_discharge', 'chester_discharge', 'flood_risk', 'recreation']\n",
      "['hydropower_revenue', 'atomic_power_plant_discharge', 'baltimore_discharge', 'environment', 'flood_risk', 'recreation']\n",
      "['hydropower_revenue', 'atomic_power_plant_discharge', 'chester_discharge', 'environment', 'flood_risk', 'recreation']\n",
      "['hydropower_revenue', 'baltimore_discharge', 'chester_discharge', 'environment', 'flood_risk', 'recreation']\n",
      "['atomic_power_plant_discharge', 'baltimore_discharge', 'chester_discharge', 'environment', 'flood_risk', 'recreation']\n"
     ]
    }
   ],
   "metadata": {}
  },
  {
   "cell_type": "markdown",
   "source": [
    "## 5 player game"
   ],
   "metadata": {}
  },
  {
   "cell_type": "code",
   "execution_count": 7,
   "source": [
    "import tqdm\r\n",
    "actors_rounds = [list(actors) for actors in itertools.combinations(actors_all,5)]\r\n",
    "\r\n",
    "stability_analysis_5player_round1 = {}\r\n",
    "stability_analysis_5player_round2 = {}\r\n",
    "stability_analysis_5player_round3 = {}\r\n",
    "stability_analysis_5player_round4 = {} \r\n",
    "\r\n",
    "for actors in (actors_rounds):\r\n",
    "    print(actors)\r\n",
    "        \r\n",
    "    # get stable policies by looking at all the policies and running them 2 decisions at a time\r\n",
    "    decisions = [list(payoffs.index)[i:i+2] for i in range(0, len(list(payoffs.index)), 2)]\r\n",
    "\r\n",
    "    stability_analysis_5player_round1, stability_round1, stable_decisions_round1 = get_stable_policies(stability_analysis_5player_round1, baselines, decisions,payoffs, actors )\r\n",
    "\r\n",
    "    # use the stable policies identified in the previous step to check if they are stable when compared against other stable policies\r\n",
    "    decisions = get_formatted_decisions(stable_decisions_round1)\r\n",
    "\r\n",
    "    stability_analysis_5player_round2, stability_round2, stable_decisions_round2 = get_stable_policies(stability_analysis_5player_round2, baselines, decisions,payoffs, actors)\r\n",
    "\r\n",
    "    decisions = get_formatted_decisions(stable_decisions_round2)\r\n",
    "\r\n",
    "    stability_analysis_5player_round3, stability_round3, stable_decisions_round3 = get_stable_policies(stability_analysis_5player_round3, baselines, decisions,payoffs, actors)\r\n",
    "\r\n",
    "# these are the fallback bargaining, egalitarian and utilitarian policies respectively\r\n",
    "    stable_decisions = [decision for decision in stable_decisions_round3 if decision not in ['policy85', 'policy98', 'policy7']]\r\n",
    "    decisions = get_formatted_decisions(stable_decisions)\r\n",
    "\r\n",
    "    if len(decisions)>0:\r\n",
    "        stability_analysis_5player_round4, stability_round4, stable_decisions_round4 = get_stable_policies(stability_analysis_5player_round4, baselines, decisions,payoffs, actors)\r\n",
    "\r\n",
    "        stability_analysis_5player_round5 = {}\r\n",
    "\r\n",
    "        decisions = get_formatted_decisions(stable_decisions_round4)\r\n",
    "        stability_analysis_5player_round5, stability_round5, stable_decisions_round5 = get_stable_policies(stability_analysis_5player_round5, baselines, decisions,payoffs, actors)\r\n",
    "\r\n",
    "        with open(f'../output/processed/stability_analysis_5player_round5_{utility}', \"wb\") as f:\r\n",
    "            pickle.dump(stability_analysis_5player_round5, f) "
   ],
   "outputs": [
    {
     "output_type": "stream",
     "name": "stdout",
     "text": [
      "['hydropower_revenue', 'atomic_power_plant_discharge', 'baltimore_discharge', 'chester_discharge', 'environment']\n",
      "['hydropower_revenue', 'atomic_power_plant_discharge', 'baltimore_discharge', 'chester_discharge', 'flood_risk']\n",
      "['hydropower_revenue', 'atomic_power_plant_discharge', 'baltimore_discharge', 'chester_discharge', 'recreation']\n",
      "['hydropower_revenue', 'atomic_power_plant_discharge', 'baltimore_discharge', 'environment', 'flood_risk']\n",
      "['hydropower_revenue', 'atomic_power_plant_discharge', 'baltimore_discharge', 'environment', 'recreation']\n",
      "['hydropower_revenue', 'atomic_power_plant_discharge', 'baltimore_discharge', 'flood_risk', 'recreation']\n",
      "['hydropower_revenue', 'atomic_power_plant_discharge', 'chester_discharge', 'environment', 'flood_risk']\n",
      "['hydropower_revenue', 'atomic_power_plant_discharge', 'chester_discharge', 'environment', 'recreation']\n",
      "['hydropower_revenue', 'atomic_power_plant_discharge', 'chester_discharge', 'flood_risk', 'recreation']\n",
      "['hydropower_revenue', 'atomic_power_plant_discharge', 'environment', 'flood_risk', 'recreation']\n",
      "['hydropower_revenue', 'baltimore_discharge', 'chester_discharge', 'environment', 'flood_risk']\n",
      "['hydropower_revenue', 'baltimore_discharge', 'chester_discharge', 'environment', 'recreation']\n",
      "['hydropower_revenue', 'baltimore_discharge', 'chester_discharge', 'flood_risk', 'recreation']\n",
      "['hydropower_revenue', 'baltimore_discharge', 'environment', 'flood_risk', 'recreation']\n",
      "['hydropower_revenue', 'chester_discharge', 'environment', 'flood_risk', 'recreation']\n",
      "['atomic_power_plant_discharge', 'baltimore_discharge', 'chester_discharge', 'environment', 'flood_risk']\n",
      "['atomic_power_plant_discharge', 'baltimore_discharge', 'chester_discharge', 'environment', 'recreation']\n",
      "['atomic_power_plant_discharge', 'baltimore_discharge', 'chester_discharge', 'flood_risk', 'recreation']\n",
      "['atomic_power_plant_discharge', 'baltimore_discharge', 'environment', 'flood_risk', 'recreation']\n",
      "['atomic_power_plant_discharge', 'chester_discharge', 'environment', 'flood_risk', 'recreation']\n",
      "['baltimore_discharge', 'chester_discharge', 'environment', 'flood_risk', 'recreation']\n"
     ]
    }
   ],
   "metadata": {}
  },
  {
   "cell_type": "markdown",
   "source": [
    "## 4 player game"
   ],
   "metadata": {}
  },
  {
   "cell_type": "code",
   "execution_count": 75,
   "source": [
    "import tqdm\r\n",
    "actors_rounds = [list(actors) for actors in itertools.combinations(actors_all,4)]\r\n",
    "\r\n",
    "stability_analysis_4player_round1 = {}\r\n",
    "stability_analysis_4player_round2 = {}\r\n",
    "stability_analysis_4player_round3 = {}\r\n",
    "stability_analysis_4player_round4 = {} \r\n",
    "stability_analysis_4player_round5 = {}\r\n",
    "\r\n",
    "stability_analysis_4player_round6 = {}\r\n",
    "stability_analysis_4player_round7 = {}\r\n",
    "stability_analysis_4player_round8 = {}\r\n",
    "stability_analysis_4player_round9 = {}\r\n",
    "stability_analysis_4player_round10 = {}\r\n",
    "\r\n",
    "for actors in (actors_rounds):\r\n",
    "    print(actors)\r\n",
    "        \r\n",
    "#     # get stable policies by looking at all the policies and running them 2 decisions at a time\r\n",
    "#     decisions = [list(payoffs.index)[i:i+2] for i in range(0, len(list(payoffs.index)), 2)]\r\n",
    "\r\n",
    "#     stability_analysis_4player_round1, stability_round1, stable_decisions_round1 = get_stable_policies(stability_analysis_4player_round1, baselines, decisions,payoffs, actors )\r\n",
    "\r\n",
    "#     # use the stable policies identified in the previous step to check if they are stable when compared against other stable policies\r\n",
    "#     decisions = get_formatted_decisions(stable_decisions_round1)\r\n",
    "\r\n",
    "#     stability_analysis_4player_round2, stability_round2, stable_decisions_round2 = get_stable_policies(stability_analysis_4player_round2, baselines, decisions,payoffs, actors)\r\n",
    "\r\n",
    "#     decisions = get_formatted_decisions(stable_decisions_round2)\r\n",
    "\r\n",
    "#     stability_analysis_4player_round3, stability_round3, stable_decisions_round3 = get_stable_policies(stability_analysis_4player_round3, baselines, decisions,payoffs, actors)\r\n",
    "\r\n",
    "# # these are the fallback bargaining, egalitarian and utilitarian policies respectively\r\n",
    "#     stable_decisions = [decision for decision in stable_decisions_round3 if decision not in ['policy85', 'policy87']]\r\n",
    "#     decisions = get_formatted_decisions(stable_decisions)\r\n",
    "\r\n",
    "#     if len(decisions)>0:\r\n",
    "#         stability_analysis_4player_round4, stability_round4, stable_decisions_round4 = get_stable_policies(stability_analysis_4player_round4, baselines, decisions,payoffs, actors)\r\n",
    "\r\n",
    "#     decisions = get_formatted_decisions(stable_decisions_round4,3)\r\n",
    "\r\n",
    "#     if len(decisions)>1:\r\n",
    "#         stability_analysis_4player_round5, stability_round5, stable_decisions_round5 = get_stable_policies(stability_analysis_4player_round5, baselines, decisions,payoffs, actors)\r\n",
    "\r\n",
    "#     decisions = get_formatted_decisions(stable_decisions_round5,3)\r\n",
    "\r\n",
    "#     if len(decisions)>1:\r\n",
    "#         stability_analysis_4player_round6, stability_round6, stable_decisions_round6 = get_stable_policies(stability_analysis_4player_round6, baselines, decisions,payoffs, actors)\r\n",
    "\r\n",
    "#     decisions = get_formatted_decisions(stable_decisions_round6,3)\r\n",
    "\r\n",
    "    # if len(decisions)>=1:\r\n",
    "    #     stability_analysis_4player_round7, stability_round7, stable_decisions_round7 = get_stable_policies(stability_analysis_4player_round7, baselines, decisions,payoffs, actors)\r\n",
    "\r\n",
    "    # decisions = get_formatted_decisions(stable_decisions_round7,2)\r\n",
    "\r\n",
    "    if len(decisions)>=1:\r\n",
    "        stability_analysis_4player_round8, stability_round8, stable_decisions_round8 = get_stable_policies(stability_analysis_4player_round8, baselines, decisions,payoffs, actors)\r\n",
    "\r\n",
    "    decisions = get_formatted_decisions(stable_decisions_round8,2)\r\n",
    "\r\n",
    "    if len(decisions)>=1:\r\n",
    "        stability_analysis_4player_round9, stability_round9, stable_decisions_round9 = get_stable_policies(stability_analysis_4player_round9, baselines, decisions,payoffs, actors)\r\n",
    "\r\n",
    "    decisions = get_formatted_decisions(stable_decisions_round9,2)\r\n",
    "\r\n",
    "    if len(decisions)>=1:\r\n",
    "        stability_analysis_4player_round10, stability_round10, stable_decisions_round10 = get_stable_policies(stability_analysis_4player_round10, baselines, decisions,payoffs, actors)\r\n"
   ],
   "outputs": [
    {
     "output_type": "stream",
     "name": "stdout",
     "text": [
      "['hydropower_revenue', 'atomic_power_plant_discharge', 'baltimore_discharge', 'chester_discharge']\n",
      "['hydropower_revenue', 'atomic_power_plant_discharge', 'baltimore_discharge', 'environment']\n",
      "['hydropower_revenue', 'atomic_power_plant_discharge', 'baltimore_discharge', 'flood_risk']\n",
      "['hydropower_revenue', 'atomic_power_plant_discharge', 'baltimore_discharge', 'recreation']\n",
      "['hydropower_revenue', 'atomic_power_plant_discharge', 'chester_discharge', 'environment']\n",
      "['hydropower_revenue', 'atomic_power_plant_discharge', 'chester_discharge', 'flood_risk']\n",
      "['hydropower_revenue', 'atomic_power_plant_discharge', 'chester_discharge', 'recreation']\n",
      "['hydropower_revenue', 'atomic_power_plant_discharge', 'environment', 'flood_risk']\n",
      "['hydropower_revenue', 'atomic_power_plant_discharge', 'environment', 'recreation']\n",
      "['hydropower_revenue', 'atomic_power_plant_discharge', 'flood_risk', 'recreation']\n",
      "['hydropower_revenue', 'baltimore_discharge', 'chester_discharge', 'environment']\n",
      "['hydropower_revenue', 'baltimore_discharge', 'chester_discharge', 'flood_risk']\n",
      "['hydropower_revenue', 'baltimore_discharge', 'chester_discharge', 'recreation']\n",
      "['hydropower_revenue', 'baltimore_discharge', 'environment', 'flood_risk']\n",
      "['hydropower_revenue', 'baltimore_discharge', 'environment', 'recreation']\n",
      "['hydropower_revenue', 'baltimore_discharge', 'flood_risk', 'recreation']\n",
      "['hydropower_revenue', 'chester_discharge', 'environment', 'flood_risk']\n",
      "['hydropower_revenue', 'chester_discharge', 'environment', 'recreation']\n",
      "['hydropower_revenue', 'chester_discharge', 'flood_risk', 'recreation']\n",
      "['hydropower_revenue', 'environment', 'flood_risk', 'recreation']\n",
      "['atomic_power_plant_discharge', 'baltimore_discharge', 'chester_discharge', 'environment']\n",
      "['atomic_power_plant_discharge', 'baltimore_discharge', 'chester_discharge', 'flood_risk']\n",
      "['atomic_power_plant_discharge', 'baltimore_discharge', 'chester_discharge', 'recreation']\n",
      "['atomic_power_plant_discharge', 'baltimore_discharge', 'environment', 'flood_risk']\n",
      "['atomic_power_plant_discharge', 'baltimore_discharge', 'environment', 'recreation']\n",
      "['atomic_power_plant_discharge', 'baltimore_discharge', 'flood_risk', 'recreation']\n",
      "['atomic_power_plant_discharge', 'chester_discharge', 'environment', 'flood_risk']\n",
      "['atomic_power_plant_discharge', 'chester_discharge', 'environment', 'recreation']\n",
      "['atomic_power_plant_discharge', 'chester_discharge', 'flood_risk', 'recreation']\n",
      "['atomic_power_plant_discharge', 'environment', 'flood_risk', 'recreation']\n",
      "['baltimore_discharge', 'chester_discharge', 'environment', 'flood_risk']\n",
      "['baltimore_discharge', 'chester_discharge', 'environment', 'recreation']\n",
      "['baltimore_discharge', 'chester_discharge', 'flood_risk', 'recreation']\n",
      "['baltimore_discharge', 'environment', 'flood_risk', 'recreation']\n",
      "['chester_discharge', 'environment', 'flood_risk', 'recreation']\n"
     ]
    }
   ],
   "metadata": {}
  },
  {
   "cell_type": "code",
   "execution_count": 82,
   "source": [
    "with open(f'../output/processed/stability_analysis_4player_round10_{utility}', \"wb\") as f:\r\n",
    "            pickle.dump(stability_analysis_4player_round10, f) "
   ],
   "outputs": [],
   "metadata": {}
  },
  {
   "cell_type": "code",
   "execution_count": 81,
   "source": [
    "#stability_analysis_4player_round10"
   ],
   "outputs": [],
   "metadata": {}
  },
  {
   "cell_type": "markdown",
   "source": [
    "## 3 player game"
   ],
   "metadata": {}
  },
  {
   "cell_type": "code",
   "execution_count": 83,
   "source": [
    "import tqdm\r\n",
    "actors_rounds = [list(actors) for actors in itertools.combinations(actors_all,3)]\r\n",
    "\r\n",
    "stability_analysis_3player_round1 = {}\r\n",
    "stability_analysis_3player_round2 = {}\r\n",
    "stability_analysis_3player_round3 = {}\r\n",
    "stability_analysis_3player_round4 = {} \r\n",
    "stability_analysis_3player_round5 = {}\r\n",
    "stability_analysis_3player_round6 = {}\r\n",
    "stability_analysis_3player_round7 = {}\r\n",
    "stability_analysis_3player_round8 = {}\r\n",
    "stability_analysis_3player_round9 = {}\r\n",
    "stability_analysis_3player_round10 = {}\r\n",
    "\r\n",
    "for actors in (actors_rounds):\r\n",
    "    #print(actors)\r\n",
    "        \r\n",
    "    # get stable policies by looking at all the policies and running them 2 decisions at a time\r\n",
    "    decisions = [list(payoffs.index)[i:i+2] for i in range(0, len(list(payoffs.index)), 2)]\r\n",
    "\r\n",
    "    stability_analysis_3player_round1, stability_round1, stable_decisions_round1 = get_stable_policies(stability_analysis_3player_round1, baselines, decisions,payoffs, actors )\r\n",
    "\r\n",
    "    with open(f'../output/processed/stability_analysis_3player_round1_{utility}', \"wb\") as f:\r\n",
    "            pickle.dump(stability_analysis_3player_round1, f) \r\n",
    "\r\n",
    "    # use the stable policies identified in the previous step to check if they are stable when compared against other stable policies\r\n",
    "    decisions = get_formatted_decisions(stable_decisions_round1)\r\n",
    "\r\n",
    "    stability_analysis_3player_round2, stability_round2, stable_decisions_round2 = get_stable_policies(stability_analysis_3player_round2, baselines, decisions,payoffs, actors)\r\n",
    "\r\n",
    "    with open(f'../output/processed/stability_analysis_3player_round2_{utility}', \"wb\") as f:\r\n",
    "            pickle.dump(stability_analysis_3player_round2, f) \r\n",
    "\r\n",
    "    decisions = get_formatted_decisions(stable_decisions_round2)\r\n",
    "\r\n",
    "    stability_analysis_3player_round3, stability_round3, stable_decisions_round3 = get_stable_policies(stability_analysis_3player_round3, baselines, decisions,payoffs, actors)\r\n",
    "\r\n",
    "    with open(f'../output/processed/stability_analysis_3player_round3_{utility}', \"wb\") as f:\r\n",
    "            pickle.dump(stability_analysis_3player_round3, f) \r\n",
    "\r\n",
    "# these are the fallback bargaining, egalitarian and utilitarian policies respectively\r\n",
    "    stable_decisions = [decision for decision in stable_decisions_round3 if decision not in ['policy85', 'policy98', 'policy7']]\r\n",
    "    decisions = get_formatted_decisions(stable_decisions)\r\n",
    "\r\n",
    "    if len(decisions)>0:\r\n",
    "        stability_analysis_3player_round4, stability_round4, stable_decisions_round4 = get_stable_policies(stability_analysis_3player_round4, baselines, decisions,payoffs, actors)\r\n",
    "\r\n",
    "        with open(f'../output/processed/stability_analysis_3player_round4_{utility}', \"wb\") as f:\r\n",
    "            pickle.dump(stability_analysis_3player_round4, f) \r\n",
    "\r\n",
    "    decisions = get_formatted_decisions(stable_decisions_round4,3)\r\n",
    "\r\n",
    "    if len(decisions)>1:\r\n",
    "        stability_analysis_3player_round5, stability_round5, stable_decisions_round5 = get_stable_policies(stability_analysis_3player_round5, baselines, decisions,payoffs, actors)\r\n",
    "\r\n",
    "        with open(f'../output/processed/stability_analysis_3player_round5_{utility}', \"wb\") as f:\r\n",
    "            pickle.dump(stability_analysis_3player_round5, f) \r\n",
    "\r\n",
    "        decisions = get_formatted_decisions(stable_decisions_round5,2)\r\n",
    "\r\n",
    "        stability_analysis_3player_round6, stability_round6, stable_decisions_round6 = get_stable_policies(stability_analysis_3player_round6, baselines, decisions,payoffs, actors)\r\n",
    "\r\n",
    "        with open(f'../output/processed/stability_analysis_3player_round6_{utility}', \"wb\") as f:\r\n",
    "                pickle.dump(stability_analysis_3player_round6, f) \r\n",
    "\r\n",
    "        decisions = get_formatted_decisions(stable_decisions_round6,2)\r\n",
    "\r\n",
    "        if len(decisions)>1:\r\n",
    "            stability_analysis_3player_round7, stability_round7, stable_decisions_round7 = get_stable_policies(stability_analysis_3player_round7, baselines, decisions,payoffs, actors)\r\n",
    "\r\n",
    "        with open(f'../output/processed/stability_analysis_3player_round7_{utility}', \"wb\") as f:\r\n",
    "                pickle.dump(stability_analysis_3player_round7, f) \r\n",
    "\r\n",
    "        if len(decisions)>1:\r\n",
    "            stability_analysis_3player_round8, stability_round8, stable_decisions_round8 = get_stable_policies(stability_analysis_3player_round8, baselines, decisions,payoffs, actors)\r\n",
    "\r\n",
    "        with open(f'../output/processed/stability_analysis_3player_round7_{utility}', \"wb\") as f:\r\n",
    "                pickle.dump(stability_analysis_3player_round8, f) \r\n",
    "\r\n",
    "        if len(decisions)>1:\r\n",
    "            stability_analysis_3player_round9, stability_round9, stable_decisions_round9 = get_stable_policies(stability_analysis_3player_round9, baselines, decisions,payoffs, actors)\r\n",
    "\r\n",
    "        with open(f'../output/processed/stability_analysis_3player_round9_{utility}', \"wb\") as f:\r\n",
    "                pickle.dump(stability_analysis_3player_round9, f) \r\n",
    "\r\n",
    "        if len(decisions)>1:\r\n",
    "            stability_analysis_3player_round10, stability_round10, stable_decisions_round10 = get_stable_policies(stability_analysis_3player_round10, baselines, decisions,payoffs, actors)\r\n",
    "\r\n",
    "        with open(f'../output/processed/stability_analysis_3player_round10_{utility}', \"wb\") as f:\r\n",
    "                pickle.dump(stability_analysis_3player_round10, f) "
   ],
   "outputs": [],
   "metadata": {}
  },
  {
   "cell_type": "code",
   "execution_count": 88,
   "source": [
    "#stable_decisions_round10"
   ],
   "outputs": [],
   "metadata": {}
  },
  {
   "cell_type": "code",
   "execution_count": 39,
   "source": [
    "stability_convergence = []\r\n",
    "stability_convergence.append(len(set(stable_decisions_round1)))\r\n",
    "stability_convergence.append(len(set(stable_decisions_round2)))\r\n",
    "stability_convergence.append(len(set(stable_decisions_round3)))\r\n",
    "stability_convergence.append(len(set(stable_decisions_round4)))\r\n",
    "stability_convergence.append(len(set(stable_decisions_round5)))\r\n",
    "stability_convergence.append(len(set(stable_decisions_round6)))\r\n",
    "stability_convergence.append(len(set(stable_decisions_round7)))\r\n",
    "stability_convergence.append(len(set(stable_decisions_round8)))\r\n",
    "stability_convergence.append(len(set(stable_decisions_round9)))"
   ],
   "outputs": [],
   "metadata": {}
  }
 ]
}