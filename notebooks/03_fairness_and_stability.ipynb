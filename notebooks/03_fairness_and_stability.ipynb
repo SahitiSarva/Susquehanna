{
 "cells": [
  {
   "cell_type": "code",
   "execution_count": null,
   "source": [
    "%reload_ext autoreload\r\n",
    "%autoreload 2\r\n",
    "from utilities import *\r\n",
    "import numpy as np\r\n",
    "import matplotlib.pyplot as plt\r\n",
    "from visuals import *"
   ],
   "outputs": [],
   "metadata": {}
  },
  {
   "cell_type": "code",
   "execution_count": null,
   "source": [
    "import seaborn as sns \r\n",
    "\r\n",
    "baselines = [ 'Status Quo', 'No Baseline']\r\n",
    "\r\n",
    "scales = np.linspace(0,1)\r\n",
    "cmap = plt.get_cmap('viridis')\r\n",
    "norm = plt.Normalize(scales.min(), scales.max())\r\n",
    "\r\n",
    "fig = plt.figure(figsize = (12,6))\r\n",
    "ax = fig.subplots(nrows = 1, ncols = 2, sharex = True, sharey = True )\r\n",
    "\r\n",
    "\r\n",
    "for idx, baseline in enumerate(baselines):\r\n",
    "    df = utilities\r\n",
    "    df = df.sort_values(by = 'policies')\r\n",
    "\r\n",
    "    axes = ax.flatten()\r\n",
    "    #print(axes)\r\n",
    "\r\n",
    "    if baseline == 'Status Quo':\r\n",
    "        palette = ['lightgrey', 'darkred','#2D708E','#482677',  'orange']\r\n",
    "    else:\r\n",
    "        palette = ['lightgrey', 'darkred','#2D708E','#482677']\r\n",
    "\r\n",
    "\r\n",
    "    sns.scatterplot(data = df, x='utility', y='gini_index', hue = 'policies', palette = palette, s = 100, ax = axes[idx])\r\n",
    "\r\n",
    "    axes[idx].get_legend().remove()\r\n",
    "\r\n",
    "    # titles and labels\r\n",
    "    axes[idx].set_title(\"Fairness of stable policies under \" + baseline, font = 'Georgia', fontsize = 14)\r\n",
    "    axes[idx].set_ylabel('gini index', font = 'Georgia', fontsize = 12)\r\n",
    "    axes[idx].set_xlabel('total utility', font = 'Georgia', fontsize = 12)\r\n",
    "\r\n",
    "    #axes lines\r\n",
    "    axes[idx].spines[\"top\"].set_visible(False)\r\n",
    "    axes[idx].spines[\"right\"].set_visible(False)\r\n",
    "    #ax.axis('off')\r\n",
    "\r\n",
    "    #ticks\r\n",
    "    axes[idx].tick_params(axis=u'both', which=u'both',length=0)\r\n",
    "\r\n",
    "#sm = ScalarMappable(norm = norm, cmap = cmap)\r\n",
    "#sm.set_array([])\r\n",
    "#cbar = fig.colorbar(sm, ax = ax)\r\n",
    "\r\n",
    "handles, labels = axes[0].get_legend_handles_labels()\r\n",
    "fig.legend(handles, labels, loc='lower right', borderaxespad=0, ncol = 1, bbox_to_anchor=(0.9, 0.7))# \r\n",
    "\r\n",
    "\r\n",
    "#sns.scatterplot(data = df, x='utility', y='gini_index', hue = 'policies', palette = 'viridis')\r\n"
   ],
   "outputs": [],
   "metadata": {}
  }
 ],
 "metadata": {
  "orig_nbformat": 4,
  "language_info": {
   "name": "python"
  }
 },
 "nbformat": 4,
 "nbformat_minor": 2
}