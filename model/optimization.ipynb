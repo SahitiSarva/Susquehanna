{
 "metadata": {
  "language_info": {
   "codemirror_mode": {
    "name": "ipython",
    "version": 3
   },
   "file_extension": ".py",
   "mimetype": "text/x-python",
   "name": "python",
   "nbconvert_exporter": "python",
   "pygments_lexer": "ipython3",
   "version": "3.8.5"
  },
  "orig_nbformat": 2,
  "kernelspec": {
   "name": "python3",
   "display_name": "Python 3.8.5 64-bit ('base': conda)"
  },
  "interpreter": {
   "hash": "c377a3a05ba1d31fd00218651f72b0a27b3c45e2b83cef10397a5da0ee866dc9"
  }
 },
 "nbformat": 4,
 "nbformat_minor": 2,
 "cells": [
  {
   "cell_type": "code",
   "execution_count": 2,
   "metadata": {},
   "outputs": [],
   "source": [
    "%reload_ext autoreload\n",
    "%autoreload 2\n",
    "from susquehanna_model import susquehannaModel\n",
    "\n",
    "import pandas as pd\n",
    "import glob\n",
    "import tqdm\n",
    "import numpy as np\n",
    "import pickle\n",
    "import os\n",
    "\n",
    "from ema_workbench import RealParameter, ScalarOutcome, SequentialEvaluator, MultiprocessingEvaluator\n",
    "from ema_workbench import Model\n",
    "from ema_workbench import Constraint\n",
    "import time"
   ]
  },
  {
   "cell_type": "code",
   "execution_count": 3,
   "metadata": {},
   "outputs": [],
   "source": [
    "from ema_workbench.em_framework.optimization import GenerationalBorg, HyperVolume, EpsilonProgress "
   ]
  },
  {
   "cell_type": "code",
   "execution_count": 4,
   "metadata": {},
   "outputs": [],
   "source": [
    "from ema_workbench import ema_logging"
   ]
  },
  {
   "cell_type": "code",
   "execution_count": 5,
   "metadata": {},
   "outputs": [],
   "source": [
    "inputs = 4 # inputs\n",
    "outputs = 4 # outputs - just the downstream discharge outputs. \n",
    "RBFs = inputs+2 # RBFs\n",
    "n_years = 50\n",
    "\n",
    "# Initialize the object\n",
    "susquehanna_model = susquehannaModel(108.5, 505.0, 5, n_years)\n",
    "\n",
    "susquehanna_model.load_data()\n",
    "\n",
    "susquehanna_model.setRBF(RBFs, inputs, outputs)"
   ]
  },
  {
   "cell_type": "code",
   "execution_count": 16,
   "metadata": {},
   "outputs": [],
   "source": [
    "baseline = {'hydropower_revenue':39.30, 'atomic_power_plant_discharge':0.633,\n",
    "       'baltimore_discharge':1.00, 'chester_discharge':1.00, 'recreation':0.00, 'environment':0.1058,\n",
    "       'flood_duration':1.633}"
   ]
  },
  {
   "cell_type": "code",
   "execution_count": 6,
   "metadata": {
    "tags": []
   },
   "outputs": [
    {
     "output_type": "stream",
     "name": "stdout",
     "text": [
      "Wall time: 0 ns\n"
     ]
    }
   ],
   "source": [
    "%%time\n",
    "model = Model(\"SusquehannaModel\", function = susquehanna_model.evaluateMC)\n",
    "\n",
    "model.outcomes = [ \n",
    "                     ScalarOutcome('hydropower_revenue' , kind = ScalarOutcome.MINIMIZE, expected_range=(36.30,100))\n",
    "                    , ScalarOutcome('atomic_power_plant_discharge', kind = ScalarOutcome.MINIMIZE, expected_range=(0,1))\n",
    "                    , ScalarOutcome('baltimore_discharge', kind = ScalarOutcome.MINIMIZE, expected_range=(0,1)) \n",
    "                    , ScalarOutcome('chester_discharge', kind = ScalarOutcome.MINIMIZE , expected_range=(0,1))\n",
    "                    , ScalarOutcome('recreation', kind = ScalarOutcome.MINIMIZE , expected_range=(0,1))\n",
    "                    , ScalarOutcome('environment', kind = ScalarOutcome.MINIMIZE , expected_range=(-1,0))\n",
    "                    , ScalarOutcome('flood_risk', kind = ScalarOutcome.MINIMIZE , expected_range=(0,100))\n",
    "                    , ScalarOutcome('flood_duration', kind = ScalarOutcome.MINIMIZE , expected_range=(0,100))]\n",
    "\n",
    "convergence_metrics = [HyperVolume.from_outcomes(model.outcomes),\n",
    "                       EpsilonProgress()]\n",
    "\n",
    "constraints = [Constraint(\"flood_risk\", outcome_names = \"flood_risk\", function = lambda x:max(0, x-8.8)), Constraint(\"atomic_power_plant_discharge\", outcome_names=\"atomic_power_plant_discharge\",\n",
    "                          function=lambda x:max(0, 0.9 - (x)))] \n",
    "                          \n",
    "\n",
    "\n",
    "centres = [RealParameter(f\"c{i}\", -1,1) for i in range(RBFs*(RBFs-inputs))]\n",
    "radii = [RealParameter(f\"r{i}\", 0,1) for i in range(RBFs*(RBFs-inputs))]\n",
    "weights = [RealParameter(f\"w{i}\", 0,1) for i in range(RBFs*inputs)]\n",
    "phaseshift = [RealParameter(f\"ps{i}\", 0,2*np.pi) for i in range(2)]\n",
    "\n",
    "model.levers = centres + radii + weights + phaseshift"
   ]
  },
  {
   "cell_type": "code",
   "execution_count": null,
   "metadata": {},
   "outputs": [],
   "source": [
    "ema_logging.log_to_stderr(ema_logging.INFO)\n",
    "\n",
    "with MultiprocessingEvaluator(model) as evaluator:\n",
    "    optimization_results, convergence = evaluator.optimize(searchover='levers', \n",
    "                        nfe=1000, epsilons= [0.5, 0.05, 0.05, 0.05, 0.05, 0.001, 0.001, 0.001],convergence=convergence_metrics)"
   ]
  },
  {
   "cell_type": "code",
   "execution_count": 8,
   "metadata": {},
   "outputs": [
    {
     "output_type": "execute_result",
     "data": {
      "text/plain": [
       "   hypervolume  epsilon_progress  nfe\n",
       "0          0.0                 0    0"
      ],
      "text/html": "<div>\n<style scoped>\n    .dataframe tbody tr th:only-of-type {\n        vertical-align: middle;\n    }\n\n    .dataframe tbody tr th {\n        vertical-align: top;\n    }\n\n    .dataframe thead th {\n        text-align: right;\n    }\n</style>\n<table border=\"1\" class=\"dataframe\">\n  <thead>\n    <tr style=\"text-align: right;\">\n      <th></th>\n      <th>hypervolume</th>\n      <th>epsilon_progress</th>\n      <th>nfe</th>\n    </tr>\n  </thead>\n  <tbody>\n    <tr>\n      <th>0</th>\n      <td>0.0</td>\n      <td>0</td>\n      <td>0</td>\n    </tr>\n  </tbody>\n</table>\n</div>"
     },
     "metadata": {},
     "execution_count": 8
    }
   ],
   "source": [
    "convergence"
   ]
  },
  {
   "cell_type": "code",
   "execution_count": 18,
   "metadata": {},
   "outputs": [
    {
     "output_type": "execute_result",
     "data": {
      "text/plain": [
       "         c0        c1        c2        c3        c4        c5        c6  \\\n",
       "0 -0.053457  0.847993  0.335180  0.110336  0.893912  0.639466 -0.083350   \n",
       "1 -0.324739 -0.794333  0.264531 -0.953288  0.109107  0.961874 -0.787242   \n",
       "2  0.308683  0.385227 -0.072128 -0.844474 -0.039459 -0.653750 -0.351243   \n",
       "3 -0.507017  0.456497  0.262471  0.666863  0.119483 -0.165630  0.903986   \n",
       "4  0.513276  0.971775 -0.961385 -0.373856 -0.581372 -0.420460 -0.561679   \n",
       "5 -0.209843  0.116017 -0.581307 -0.447725 -0.129689 -0.859321 -0.530784   \n",
       "6 -0.264501 -0.911997 -0.365421  0.828978  0.853743 -0.947103  0.178522   \n",
       "7 -0.856957  0.361989 -0.583258 -0.805682  0.865211 -0.090239 -0.748457   \n",
       "8 -0.711648  0.175000 -0.747284  0.994026 -0.657985 -0.333238  0.570633   \n",
       "9 -0.644177  0.087937 -0.249821  0.532812 -0.885508 -0.218371 -0.367133   \n",
       "\n",
       "         c7        c8        c9  ...       w22       w23       ps0       ps1  \\\n",
       "0  0.117263  0.987255  0.760006  ...  0.253881  0.372884  2.882713  5.862664   \n",
       "1 -0.433681  0.499830 -0.934476  ...  0.042587  0.908942  0.007295  2.575407   \n",
       "2 -0.887383 -0.746584 -0.549271  ...  0.607020  0.055860  3.075406  2.540182   \n",
       "3 -0.955279  0.323425  0.740255  ...  0.710946  0.060452  0.454984  1.523692   \n",
       "4  0.396369 -0.269306 -0.285217  ...  0.200629  0.314731  4.264605  3.615573   \n",
       "5 -0.174981  0.401541  0.388643  ...  0.107139  0.934192  3.997224  1.071305   \n",
       "6  0.759675 -0.519747 -0.925746  ...  0.138746  0.447101  0.898493  3.679340   \n",
       "7  0.642462 -0.631570  0.937266  ...  0.728022  0.092998  2.569469  6.089921   \n",
       "8 -0.811496  0.918356 -0.326813  ...  0.422875  0.194457  4.861924  1.773962   \n",
       "9 -0.312474 -0.103232  0.876831  ...  0.713800  0.449753  2.897332  2.375239   \n",
       "\n",
       "   hydropower_revenue  atomic_power_plant_discharge  baltimore_discharge  \\\n",
       "0          -10.746287                     -0.006427            -0.004240   \n",
       "1           40.006895                     -0.000201            -0.019926   \n",
       "2           -9.081839                     -0.006779            -0.010966   \n",
       "3           32.168593                     -0.001395            -0.026530   \n",
       "4           -7.402455                     -0.004549            -0.002649   \n",
       "5           40.917608                     -0.003522            -0.056511   \n",
       "6          -20.071442                     -0.005967            -0.010316   \n",
       "7          -30.326318                     -0.000697            -0.008304   \n",
       "8           -7.760621                     -0.005307            -0.028533   \n",
       "9           -5.455851                     -0.001214            -0.000505   \n",
       "\n",
       "   chester_discharge  recreation  environment  \n",
       "0          -0.003594       377.0     0.102988  \n",
       "1          -0.000054      4465.0     0.000764  \n",
       "2          -0.003166      2435.0     0.001359  \n",
       "3          -0.000626      4857.0     0.000980  \n",
       "4          -0.007078       349.0     0.332360  \n",
       "5          -0.000834      4759.0     0.014570  \n",
       "6          -0.015385       391.0     0.038102  \n",
       "7          -0.000089       391.0     0.043242  \n",
       "8          -0.000313      1693.0     0.005233  \n",
       "9          -0.000467       335.0     0.473105  \n",
       "\n",
       "[10 rows x 56 columns]"
      ],
      "text/html": "<div>\n<style scoped>\n    .dataframe tbody tr th:only-of-type {\n        vertical-align: middle;\n    }\n\n    .dataframe tbody tr th {\n        vertical-align: top;\n    }\n\n    .dataframe thead th {\n        text-align: right;\n    }\n</style>\n<table border=\"1\" class=\"dataframe\">\n  <thead>\n    <tr style=\"text-align: right;\">\n      <th></th>\n      <th>c0</th>\n      <th>c1</th>\n      <th>c2</th>\n      <th>c3</th>\n      <th>c4</th>\n      <th>c5</th>\n      <th>c6</th>\n      <th>c7</th>\n      <th>c8</th>\n      <th>c9</th>\n      <th>...</th>\n      <th>w22</th>\n      <th>w23</th>\n      <th>ps0</th>\n      <th>ps1</th>\n      <th>hydropower_revenue</th>\n      <th>atomic_power_plant_discharge</th>\n      <th>baltimore_discharge</th>\n      <th>chester_discharge</th>\n      <th>recreation</th>\n      <th>environment</th>\n    </tr>\n  </thead>\n  <tbody>\n    <tr>\n      <th>0</th>\n      <td>-0.053457</td>\n      <td>0.847993</td>\n      <td>0.335180</td>\n      <td>0.110336</td>\n      <td>0.893912</td>\n      <td>0.639466</td>\n      <td>-0.083350</td>\n      <td>0.117263</td>\n      <td>0.987255</td>\n      <td>0.760006</td>\n      <td>...</td>\n      <td>0.253881</td>\n      <td>0.372884</td>\n      <td>2.882713</td>\n      <td>5.862664</td>\n      <td>-10.746287</td>\n      <td>-0.006427</td>\n      <td>-0.004240</td>\n      <td>-0.003594</td>\n      <td>377.0</td>\n      <td>0.102988</td>\n    </tr>\n    <tr>\n      <th>1</th>\n      <td>-0.324739</td>\n      <td>-0.794333</td>\n      <td>0.264531</td>\n      <td>-0.953288</td>\n      <td>0.109107</td>\n      <td>0.961874</td>\n      <td>-0.787242</td>\n      <td>-0.433681</td>\n      <td>0.499830</td>\n      <td>-0.934476</td>\n      <td>...</td>\n      <td>0.042587</td>\n      <td>0.908942</td>\n      <td>0.007295</td>\n      <td>2.575407</td>\n      <td>40.006895</td>\n      <td>-0.000201</td>\n      <td>-0.019926</td>\n      <td>-0.000054</td>\n      <td>4465.0</td>\n      <td>0.000764</td>\n    </tr>\n    <tr>\n      <th>2</th>\n      <td>0.308683</td>\n      <td>0.385227</td>\n      <td>-0.072128</td>\n      <td>-0.844474</td>\n      <td>-0.039459</td>\n      <td>-0.653750</td>\n      <td>-0.351243</td>\n      <td>-0.887383</td>\n      <td>-0.746584</td>\n      <td>-0.549271</td>\n      <td>...</td>\n      <td>0.607020</td>\n      <td>0.055860</td>\n      <td>3.075406</td>\n      <td>2.540182</td>\n      <td>-9.081839</td>\n      <td>-0.006779</td>\n      <td>-0.010966</td>\n      <td>-0.003166</td>\n      <td>2435.0</td>\n      <td>0.001359</td>\n    </tr>\n    <tr>\n      <th>3</th>\n      <td>-0.507017</td>\n      <td>0.456497</td>\n      <td>0.262471</td>\n      <td>0.666863</td>\n      <td>0.119483</td>\n      <td>-0.165630</td>\n      <td>0.903986</td>\n      <td>-0.955279</td>\n      <td>0.323425</td>\n      <td>0.740255</td>\n      <td>...</td>\n      <td>0.710946</td>\n      <td>0.060452</td>\n      <td>0.454984</td>\n      <td>1.523692</td>\n      <td>32.168593</td>\n      <td>-0.001395</td>\n      <td>-0.026530</td>\n      <td>-0.000626</td>\n      <td>4857.0</td>\n      <td>0.000980</td>\n    </tr>\n    <tr>\n      <th>4</th>\n      <td>0.513276</td>\n      <td>0.971775</td>\n      <td>-0.961385</td>\n      <td>-0.373856</td>\n      <td>-0.581372</td>\n      <td>-0.420460</td>\n      <td>-0.561679</td>\n      <td>0.396369</td>\n      <td>-0.269306</td>\n      <td>-0.285217</td>\n      <td>...</td>\n      <td>0.200629</td>\n      <td>0.314731</td>\n      <td>4.264605</td>\n      <td>3.615573</td>\n      <td>-7.402455</td>\n      <td>-0.004549</td>\n      <td>-0.002649</td>\n      <td>-0.007078</td>\n      <td>349.0</td>\n      <td>0.332360</td>\n    </tr>\n    <tr>\n      <th>5</th>\n      <td>-0.209843</td>\n      <td>0.116017</td>\n      <td>-0.581307</td>\n      <td>-0.447725</td>\n      <td>-0.129689</td>\n      <td>-0.859321</td>\n      <td>-0.530784</td>\n      <td>-0.174981</td>\n      <td>0.401541</td>\n      <td>0.388643</td>\n      <td>...</td>\n      <td>0.107139</td>\n      <td>0.934192</td>\n      <td>3.997224</td>\n      <td>1.071305</td>\n      <td>40.917608</td>\n      <td>-0.003522</td>\n      <td>-0.056511</td>\n      <td>-0.000834</td>\n      <td>4759.0</td>\n      <td>0.014570</td>\n    </tr>\n    <tr>\n      <th>6</th>\n      <td>-0.264501</td>\n      <td>-0.911997</td>\n      <td>-0.365421</td>\n      <td>0.828978</td>\n      <td>0.853743</td>\n      <td>-0.947103</td>\n      <td>0.178522</td>\n      <td>0.759675</td>\n      <td>-0.519747</td>\n      <td>-0.925746</td>\n      <td>...</td>\n      <td>0.138746</td>\n      <td>0.447101</td>\n      <td>0.898493</td>\n      <td>3.679340</td>\n      <td>-20.071442</td>\n      <td>-0.005967</td>\n      <td>-0.010316</td>\n      <td>-0.015385</td>\n      <td>391.0</td>\n      <td>0.038102</td>\n    </tr>\n    <tr>\n      <th>7</th>\n      <td>-0.856957</td>\n      <td>0.361989</td>\n      <td>-0.583258</td>\n      <td>-0.805682</td>\n      <td>0.865211</td>\n      <td>-0.090239</td>\n      <td>-0.748457</td>\n      <td>0.642462</td>\n      <td>-0.631570</td>\n      <td>0.937266</td>\n      <td>...</td>\n      <td>0.728022</td>\n      <td>0.092998</td>\n      <td>2.569469</td>\n      <td>6.089921</td>\n      <td>-30.326318</td>\n      <td>-0.000697</td>\n      <td>-0.008304</td>\n      <td>-0.000089</td>\n      <td>391.0</td>\n      <td>0.043242</td>\n    </tr>\n    <tr>\n      <th>8</th>\n      <td>-0.711648</td>\n      <td>0.175000</td>\n      <td>-0.747284</td>\n      <td>0.994026</td>\n      <td>-0.657985</td>\n      <td>-0.333238</td>\n      <td>0.570633</td>\n      <td>-0.811496</td>\n      <td>0.918356</td>\n      <td>-0.326813</td>\n      <td>...</td>\n      <td>0.422875</td>\n      <td>0.194457</td>\n      <td>4.861924</td>\n      <td>1.773962</td>\n      <td>-7.760621</td>\n      <td>-0.005307</td>\n      <td>-0.028533</td>\n      <td>-0.000313</td>\n      <td>1693.0</td>\n      <td>0.005233</td>\n    </tr>\n    <tr>\n      <th>9</th>\n      <td>-0.644177</td>\n      <td>0.087937</td>\n      <td>-0.249821</td>\n      <td>0.532812</td>\n      <td>-0.885508</td>\n      <td>-0.218371</td>\n      <td>-0.367133</td>\n      <td>-0.312474</td>\n      <td>-0.103232</td>\n      <td>0.876831</td>\n      <td>...</td>\n      <td>0.713800</td>\n      <td>0.449753</td>\n      <td>2.897332</td>\n      <td>2.375239</td>\n      <td>-5.455851</td>\n      <td>-0.001214</td>\n      <td>-0.000505</td>\n      <td>-0.000467</td>\n      <td>335.0</td>\n      <td>0.473105</td>\n    </tr>\n  </tbody>\n</table>\n<p>10 rows × 56 columns</p>\n</div>"
     },
     "metadata": {},
     "execution_count": 18
    }
   ],
   "source": [
    "optimization_results"
   ]
  }
 ]
}